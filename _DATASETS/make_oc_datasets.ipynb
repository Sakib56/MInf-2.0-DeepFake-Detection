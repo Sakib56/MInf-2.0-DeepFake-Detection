{
 "cells": [
  {
   "cell_type": "code",
   "execution_count": 1,
   "metadata": {},
   "outputs": [],
   "source": [
    "import os"
   ]
  },
  {
   "cell_type": "code",
   "execution_count": null,
   "metadata": {},
   "outputs": [],
   "source": [
    "def get_parent_dir(pth):\n",
    "    pth"
   ]
  },
  {
   "cell_type": "code",
   "execution_count": 4,
   "metadata": {},
   "outputs": [
    {
     "data": {
      "text/plain": [
       "['df', 'real']"
      ]
     },
     "execution_count": 4,
     "metadata": {},
     "output_type": "execute_result"
    }
   ],
   "source": [
    "two_class_dir = \"./DariusAf_Deepfake_Database/train_test\" # has folder w real/fake\n",
    "path_2_real\n",
    "path_2_fake\n",
    "path_2_oc_parent_dir\n",
    "os.listdir(two_class_dir)\n",
    "# parent_dir = "
   ]
  }
 ],
 "metadata": {
  "interpreter": {
   "hash": "b6ab49cfb582f84f545cba3582faacfb251ac6e80d3620b9815119ee38c0dbaf"
  },
  "kernelspec": {
   "display_name": "Python 3.9.7 ('tf')",
   "language": "python",
   "name": "python3"
  },
  "language_info": {
   "codemirror_mode": {
    "name": "ipython",
    "version": 3
   },
   "file_extension": ".py",
   "mimetype": "text/x-python",
   "name": "python",
   "nbconvert_exporter": "python",
   "pygments_lexer": "ipython3",
   "version": "3.9.7"
  },
  "orig_nbformat": 4
 },
 "nbformat": 4,
 "nbformat_minor": 2
}

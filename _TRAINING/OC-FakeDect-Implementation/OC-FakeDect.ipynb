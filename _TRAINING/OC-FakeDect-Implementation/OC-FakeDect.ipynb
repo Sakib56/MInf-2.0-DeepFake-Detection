{
 "cells": [
  {
   "cell_type": "code",
   "execution_count": 1,
   "id": "bbec6071",
   "metadata": {},
   "outputs": [],
   "source": [
    "import torch\n",
    "import os\n",
    "from torch import nn, optim\n",
    "from torch.nn import functional as F\n",
    "from torchvision import datasets, transforms\n",
    "import cv2\n",
    "import matplotlib.pyplot as plt\n",
    "import numpy as np\n",
    "from torch.utils.data import DataLoader\n",
    "from torchsummary import summary\n",
    "from tqdm import tqdm\n",
    "from matplotlib.pyplot import figure\n",
    "os.environ[\"KMP_DUPLICATE_LIB_OK\"]=\"TRUE\"\n",
    "torch.cuda.empty_cache()\n",
    "from sklearn.metrics import f1_score, recall_score, precision_score, roc_curve, roc_auc_score\n",
    "import seaborn as sns\n",
    "import re\n",
    "\n",
    "sns.set()\n",
    "plt.rc('font', family = 'serif')"
   ]
  },
  {
   "cell_type": "code",
   "execution_count": 2,
   "id": "72c2fc6b",
   "metadata": {},
   "outputs": [],
   "source": [
    "def get_binary_testset(dataset_name):\n",
    "    \"\"\"\n",
    "    dataset_name -> trainset, valset, testset\n",
    "    \"\"\"\n",
    "    trainset, valset, testset = None, None, None\n",
    "    dataset_name = dataset_name.lower()\n",
    "    path_2_root = \"../..\"\n",
    "\n",
    "    # if not \"oc\" in dataset_name:\n",
    "    #     if \"dar\" in dataset_name and \"oc\" not in dataset_name: # DariusAf_Deepfake_Database\n",
    "    #         trainset = f\"{path_2_root}/_DATASETS/DariusAf_Deepfake_Database/train_test\"\n",
    "    #         testset = f\"{path_2_root}/_DATASETS/DariusAf_Deepfake_Database/validation\"\n",
    "\n",
    "    #     if \"avg\" in dataset_name: # Celeb-avg-30\n",
    "    #         if \"celeb\" in dataset_name:\n",
    "    #             trainset = f\"{path_2_root}/_DATASETS/Celeb-DF-v2/Celeb-avg-30\"\n",
    "    #             testset = f\"{path_2_root}/_DATASETS/Celeb-DF-v2/Celeb-avg-30-test\"\n",
    "                \n",
    "    #         elif \"deepfake\" in dataset_name:\n",
    "    #             trainset = f\"{path_2_root}/_DATASETS/FF/Deepfakes_avg\"\n",
    "    #         elif \"face2face\" in dataset_name:\n",
    "    #             trainset = f\"{path_2_root}/_DATASETS/FF/Face2Face_avg\"\n",
    "    #         elif \"shift\" in dataset_name:\n",
    "    #             trainset = f\"{path_2_root}/_DATASETS/FF/FaceShifter_avg\"\n",
    "    #         elif \"swap\" in dataset_name:\n",
    "    #             trainset = f\"{path_2_root}/_DATASETS/FF/FaceSwap_avg\"\n",
    "    #         elif \"neural\" in dataset_name:\n",
    "    #             trainset = f\"{path_2_root}/_DATASETS/FF/NeuralTextures_avg\"\n",
    "\n",
    "    #     elif \"rnd\" in dataset_name: # Celeb-rnd-30\n",
    "    #         if \"celeb\" in dataset_name:\n",
    "    #             trainset = f\"{path_2_root}/_DATASETS/Celeb-DF-v2/Celeb-rnd-30\"\n",
    "    #             testset = f\"{path_2_root}/_DATASETS/Celeb-DF-v2/Celeb-rnd-30-test\"\n",
    "                \n",
    "    #         elif \"deepfake\" in dataset_name:\n",
    "    #             trainset = f\"{path_2_root}/_DATASETS/FF/Deepfakes_rnd\"\n",
    "    #         elif \"face2face\" in dataset_name:\n",
    "    #             trainset = f\"{path_2_root}/_DATASETS/FF/Face2Face_rnd\"\n",
    "    #         elif \"shift\" in dataset_name:\n",
    "    #             trainset = f\"{path_2_root}/_DATASETS/FF/FaceShifter_rnd\"\n",
    "    #         elif \"swap\" in dataset_name:\n",
    "    #             trainset = f\"{path_2_root}/_DATASETS/FF/FaceSwap_rnd\"\n",
    "    #         elif \"neural\" in dataset_name:\n",
    "    #             trainset = f\"{path_2_root}/_DATASETS/FF/NeuralTextures_rnd\"\n",
    "\n",
    "    #     elif \"diff\" in dataset_name: # Celeb-diff-30\n",
    "    #         trainset = f\"{path_2_root}/_DATASETS/Celeb-DF-v2/Celeb-diff-30\"\n",
    "    #         testset = f\"{path_2_root}/_DATASETS/Celeb-DF-v2/Celeb-diff-30-test\"\n",
    "\n",
    "    #     elif \"ff\" in dataset_name and \"deepfake\" in dataset_name:\n",
    "    #         trainset = f\"{path_2_root}/_DATASETS/FF/Deepfakes_avg\"\n",
    "\n",
    "    #     elif \"ff\" in dataset_name and \"deepfake\" in dataset_name:\n",
    "    #         trainset = f\"{path_2_root}/_DATASETS/FF/Deepfakes_avg\"\n",
    "\n",
    "    # else: # oc\n",
    "    if \"dar\" in dataset_name: # DariusAf_Deepfake_Database\n",
    "        trainset = f\"{path_2_root}/_DATASETS/DariusAf_Deepfake_Database-OC/real-train/\" # unary\n",
    "        testset = f\"{path_2_root}/_DATASETS/DariusAf_Deepfake_Database-OC/realfake-test/\" # binary\n",
    "\n",
    "    elif \"avg\" in dataset_name:\n",
    "        trainset = f\"{path_2_root}/_DATASETS/Celeb-DF-v2-OC/Celeb-avg-30-OC-real-train/\" # unary\n",
    "        # valset = f\"{path_2_root}/_DATASETS/Celeb-DF-v2-OC/Celeb-avg-30-OC-real-val/\"  # unary\n",
    "        testset = f\"{path_2_root}/_DATASETS/Celeb-DF-v2-OC/Celeb-avg-30-OC-realfake-test/\" # binary\n",
    "\n",
    "    elif \"rnd\" in dataset_name: # Celeb-rnd-30-OC\n",
    "        trainset = f\"{path_2_root}/_DATASETS/Celeb-DF-v2-OC/Celeb-rnd-30-OC-real-train/\" # unary\n",
    "        # valset = f\"{path_2_root}/_DATASETS/Celeb-DF-v2-OC/Celeb-rnd-30-OC-real-val/\"  # unary\n",
    "        testset = f\"{path_2_root}/_DATASETS/Celeb-DF-v2-OC/Celeb-rnd-30-OC-realfake-test/\" # binary\n",
    "\n",
    "    testset = trainset if testset==None else testset\n",
    "    valset = trainset if valset==None else valset\n",
    "    return trainset, valset, testset"
   ]
  },
  {
   "cell_type": "code",
   "execution_count": 3,
   "id": "48057793",
   "metadata": {},
   "outputs": [],
   "source": [
    "batch_size = 128\n",
    "epochs = 1000\n",
    "img_size = 100\n",
    "device = torch.device(\"cuda:0\" if torch.cuda.is_available() else \"cpu\")"
   ]
  },
  {
   "cell_type": "code",
   "execution_count": 4,
   "id": "2448359e",
   "metadata": {},
   "outputs": [],
   "source": [
    "transform_train = transforms.Compose([\n",
    "    transforms.Resize((img_size, img_size)),\n",
    "    transforms.RandomHorizontalFlip(),\n",
    "    transforms.ToTensor(),\n",
    "    transforms.Normalize([0.5, 0.5, 0.5], [0.5, 0.5, 0.5])\n",
    "])\n",
    "\n",
    "transform_test = transforms.Compose([\n",
    "    transforms.ToPILImage(),\n",
    "    transforms.Resize((img_size, img_size)),\n",
    "    transforms.ToTensor(),\n",
    "    transforms.Normalize([0.5, 0.5, 0.5], [0.5, 0.5, 0.5])\n",
    "])"
   ]
  },
  {
   "cell_type": "code",
   "execution_count": 5,
   "id": "78ea6db6",
   "metadata": {},
   "outputs": [],
   "source": [
    "class vae(nn.Module):\n",
    "    def __init__(self):\n",
    "        super(vae, self).__init__()\n",
    "\n",
    "        self.conv1 = nn.Conv2d(3, 16, kernel_size=3,stride=1, padding=1, bias=False)\n",
    "        self.bn1 = nn.BatchNorm2d(16)\n",
    "        self.conv2 = nn.Conv2d(16, 32, kernel_size=3,stride=2, padding=1, bias=False)\n",
    "        self.bn2 = nn.BatchNorm2d(32)\n",
    "        self.conv3 = nn.Conv2d(32, 64, kernel_size=3,stride=1, padding=1, bias=False)\n",
    "        self.bn3 = nn.BatchNorm2d(64)\n",
    "        self.conv4 = nn.Conv2d(64, 32, kernel_size=3,stride=2, padding=1, bias=False)\n",
    "        self.bn4 = nn.BatchNorm2d(32)\n",
    "\n",
    "        self.fc1 = nn.Linear(25 * 25 * 32, 1000)\n",
    "        self.fc1_bn = nn.BatchNorm1d(1000)\n",
    "        self.fc2_mean = nn.Linear(1000, 100)\n",
    "        self.fc2_logvar = nn.Linear(1000, 100)\n",
    "\n",
    "        self.fc3 = nn.Linear(100, 1000)\n",
    "        self.fc3_bn = nn.BatchNorm1d(1000)\n",
    "        self.fc4 = nn.Linear(1000, 25 * 25 * 32)\n",
    "        self.fc4_bn = nn.BatchNorm1d(25 * 25 * 32)\n",
    "\n",
    "        self.relu = nn.ReLU()\n",
    "\n",
    "        self.conv5 = nn.ConvTranspose2d(32, 64, kernel_size=3, stride=1, padding=1, bias=False)\n",
    "        self.bn5 = nn.BatchNorm2d(64)\n",
    "        self.conv6 = nn.ConvTranspose2d(64, 32, kernel_size=3, stride=2, padding=1, output_padding=1, bias=False)\n",
    "        self.bn6 = nn.BatchNorm2d(32)\n",
    "        self.conv7 = nn.ConvTranspose2d(32, 16, kernel_size=3, stride=1, padding=1, bias=False)\n",
    "        self.bn7 = nn.BatchNorm2d(16)\n",
    "        self.conv8 = nn.ConvTranspose2d(16, 3, kernel_size=3, stride=2, padding=1, output_padding=1, bias=False)\n",
    "        \n",
    "    def encode(self, data):\n",
    "        conv1 = self.relu(self.bn1(self.conv1(data)))\n",
    "        conv2 = self.relu(self.bn2(self.conv2(conv1)))\n",
    "        conv3 = self.relu(self.bn3(self.conv3(conv2)))\n",
    "        conv4 = self.relu(self.bn4(self.conv4(conv3)))\n",
    "\n",
    "        fc1 = self.relu(self.fc1_bn(self.fc1(conv4.view(-1, 25 * 25 * 32))))\n",
    "        mean = self.fc2_mean(fc1)\n",
    "        logvar = self.fc2_logvar(fc1)\n",
    "        return mean, logvar\n",
    "    \n",
    "    def reparameterize(self, mean, logvar):\n",
    "        std = 0.5 * torch.exp(logvar)\n",
    "        z = (std.data.new(std.size()).normal_()) * std + mean\n",
    "        return z\n",
    "    \n",
    "    def decode(self, z):\n",
    "        fc3 = self.relu(self.fc3_bn(self.fc3(z)))\n",
    "        fc4 = self.relu(self.fc4_bn(self.fc4(fc3)))\n",
    "        conv5 = self.relu(self.bn5(self.conv5(fc4.view(-1, 32, 25, 25))))\n",
    "        conv6 = self.relu(self.bn6(self.conv6(conv5)))\n",
    "        conv7 = self.relu(self.bn7(self.conv7(conv6)))\n",
    "        conv8 = self.conv8(conv7)\n",
    "        return conv8.view(-1, 3, img_size, img_size)\n",
    "    \n",
    "    def forward(self, x):\n",
    "        mean, logvar = self.encode(x)\n",
    "        z = self.reparameterize(mean, logvar)\n",
    "        return self.decode(z), mean, logvar\n",
    "\n",
    "def loss_function(recon_x, x, mean, logvar):\n",
    "    mse_loss = nn.MSELoss(reduction=\"sum\")\n",
    "    reconstruction_loss = mse_loss(recon_x, x)\n",
    "    kld_loss = -0.5 * torch.sum(1+logvar-torch.exp(logvar)-mean**2)\n",
    "    return reconstruction_loss + kld_loss"
   ]
  },
  {
   "cell_type": "code",
   "execution_count": 6,
   "id": "426ae5ff",
   "metadata": {},
   "outputs": [
    {
     "name": "stderr",
     "output_type": "stream",
     "text": [
      "89it [00:25,  3.54it/s]                        \n"
     ]
    },
    {
     "name": "stdout",
     "output_type": "stream",
     "text": [
      "Epoch=0\tloss=1285.3620\r"
     ]
    },
    {
     "name": "stderr",
     "output_type": "stream",
     "text": [
      "89it [00:21,  4.07it/s]                        \n"
     ]
    },
    {
     "name": "stdout",
     "output_type": "stream",
     "text": [
      "Epoch=1\tloss=1288.9911\r"
     ]
    },
    {
     "name": "stderr",
     "output_type": "stream",
     "text": [
      "89it [00:21,  4.21it/s]                        \n"
     ]
    },
    {
     "name": "stdout",
     "output_type": "stream",
     "text": [
      "Epoch=2\tloss=1284.2431\r"
     ]
    },
    {
     "name": "stderr",
     "output_type": "stream",
     "text": [
      "89it [00:21,  4.12it/s]                        \n"
     ]
    },
    {
     "name": "stdout",
     "output_type": "stream",
     "text": [
      "Epoch=3\tloss=1289.4821\r"
     ]
    },
    {
     "name": "stderr",
     "output_type": "stream",
     "text": [
      "89it [00:21,  4.07it/s]                        \n"
     ]
    },
    {
     "name": "stdout",
     "output_type": "stream",
     "text": [
      "Epoch=4\tloss=1289.4330\r"
     ]
    },
    {
     "name": "stderr",
     "output_type": "stream",
     "text": [
      "89it [00:21,  4.09it/s]                        \n"
     ]
    },
    {
     "name": "stdout",
     "output_type": "stream",
     "text": [
      "Epoch=5\tloss=1286.8143\r"
     ]
    },
    {
     "name": "stderr",
     "output_type": "stream",
     "text": [
      "89it [00:21,  4.07it/s]                        \n"
     ]
    },
    {
     "name": "stdout",
     "output_type": "stream",
     "text": [
      "Epoch=6\tloss=1288.1885\r"
     ]
    },
    {
     "name": "stderr",
     "output_type": "stream",
     "text": [
      "89it [00:21,  4.18it/s]                        \n"
     ]
    },
    {
     "name": "stdout",
     "output_type": "stream",
     "text": [
      "Epoch=7\tloss=1288.3527\r"
     ]
    },
    {
     "name": "stderr",
     "output_type": "stream",
     "text": [
      "89it [00:21,  4.23it/s]                        \n"
     ]
    },
    {
     "name": "stdout",
     "output_type": "stream",
     "text": [
      "Epoch=8\tloss=1291.1315\r"
     ]
    },
    {
     "name": "stderr",
     "output_type": "stream",
     "text": [
      "89it [00:20,  4.25it/s]                        \n"
     ]
    },
    {
     "name": "stdout",
     "output_type": "stream",
     "text": [
      "Epoch=9\tloss=1286.9455\r"
     ]
    },
    {
     "name": "stderr",
     "output_type": "stream",
     "text": [
      "89it [00:20,  4.27it/s]                        \n"
     ]
    },
    {
     "name": "stdout",
     "output_type": "stream",
     "text": [
      "Epoch=10\tloss=1290.8944\r"
     ]
    },
    {
     "name": "stderr",
     "output_type": "stream",
     "text": [
      "89it [00:21,  4.22it/s]                        \n"
     ]
    },
    {
     "name": "stdout",
     "output_type": "stream",
     "text": [
      "Epoch=11\tloss=1290.2804\r"
     ]
    },
    {
     "name": "stderr",
     "output_type": "stream",
     "text": [
      "89it [00:20,  4.24it/s]                        \n"
     ]
    },
    {
     "name": "stdout",
     "output_type": "stream",
     "text": [
      "Epoch=12\tloss=1287.1789\r"
     ]
    },
    {
     "name": "stderr",
     "output_type": "stream",
     "text": [
      "89it [00:20,  4.25it/s]                        \n"
     ]
    },
    {
     "name": "stdout",
     "output_type": "stream",
     "text": [
      "Epoch=13\tloss=1291.6184\r"
     ]
    },
    {
     "name": "stderr",
     "output_type": "stream",
     "text": [
      "89it [00:21,  4.24it/s]                        \n"
     ]
    },
    {
     "name": "stdout",
     "output_type": "stream",
     "text": [
      "Epoch=14\tloss=1291.7479\r"
     ]
    },
    {
     "name": "stderr",
     "output_type": "stream",
     "text": [
      "89it [00:20,  4.25it/s]                        \n"
     ]
    },
    {
     "name": "stdout",
     "output_type": "stream",
     "text": [
      "Epoch=15\tloss=1287.5761\r"
     ]
    },
    {
     "name": "stderr",
     "output_type": "stream",
     "text": [
      "89it [00:20,  4.30it/s]                        \n"
     ]
    },
    {
     "name": "stdout",
     "output_type": "stream",
     "text": [
      "Epoch=16\tloss=1291.2055\r"
     ]
    },
    {
     "name": "stderr",
     "output_type": "stream",
     "text": [
      "89it [00:20,  4.28it/s]                        \n"
     ]
    },
    {
     "name": "stdout",
     "output_type": "stream",
     "text": [
      "Epoch=17\tloss=1287.6275\r"
     ]
    },
    {
     "name": "stderr",
     "output_type": "stream",
     "text": [
      "89it [00:20,  4.27it/s]                        \n"
     ]
    },
    {
     "name": "stdout",
     "output_type": "stream",
     "text": [
      "Epoch=18\tloss=1288.4650\r"
     ]
    },
    {
     "name": "stderr",
     "output_type": "stream",
     "text": [
      "89it [00:21,  4.14it/s]                        \n"
     ]
    },
    {
     "name": "stdout",
     "output_type": "stream",
     "text": [
      "Epoch=19\tloss=1286.7685\r"
     ]
    },
    {
     "name": "stderr",
     "output_type": "stream",
     "text": [
      "89it [00:23,  3.84it/s]                        \n"
     ]
    },
    {
     "name": "stdout",
     "output_type": "stream",
     "text": [
      "Epoch=20\tloss=1287.7170\r"
     ]
    },
    {
     "name": "stderr",
     "output_type": "stream",
     "text": [
      "89it [00:23,  3.73it/s]                        \n"
     ]
    },
    {
     "name": "stdout",
     "output_type": "stream",
     "text": [
      "Epoch=21\tloss=1291.7654\r"
     ]
    },
    {
     "name": "stderr",
     "output_type": "stream",
     "text": [
      "89it [00:23,  3.76it/s]                        \n"
     ]
    },
    {
     "name": "stdout",
     "output_type": "stream",
     "text": [
      "Epoch=22\tloss=1292.1570\r"
     ]
    },
    {
     "name": "stderr",
     "output_type": "stream",
     "text": [
      "89it [00:22,  3.98it/s]                        \n"
     ]
    },
    {
     "name": "stdout",
     "output_type": "stream",
     "text": [
      "Epoch=23\tloss=1293.4698\r"
     ]
    },
    {
     "name": "stderr",
     "output_type": "stream",
     "text": [
      "89it [00:23,  3.76it/s]                        \n"
     ]
    },
    {
     "name": "stdout",
     "output_type": "stream",
     "text": [
      "Epoch=24\tloss=1292.2750\r"
     ]
    },
    {
     "name": "stderr",
     "output_type": "stream",
     "text": [
      "89it [00:23,  3.72it/s]                        \n"
     ]
    },
    {
     "name": "stdout",
     "output_type": "stream",
     "text": [
      "Epoch=25\tloss=1288.8402\r"
     ]
    },
    {
     "name": "stderr",
     "output_type": "stream",
     "text": [
      "89it [00:24,  3.71it/s]                        \n"
     ]
    },
    {
     "name": "stdout",
     "output_type": "stream",
     "text": [
      "Epoch=26\tloss=1289.5315\r"
     ]
    },
    {
     "name": "stderr",
     "output_type": "stream",
     "text": [
      "89it [00:23,  3.84it/s]                        \n"
     ]
    },
    {
     "name": "stdout",
     "output_type": "stream",
     "text": [
      "Epoch=27\tloss=1288.6393\r"
     ]
    },
    {
     "name": "stderr",
     "output_type": "stream",
     "text": [
      "89it [00:23,  3.86it/s]                        \n"
     ]
    },
    {
     "name": "stdout",
     "output_type": "stream",
     "text": [
      "Epoch=28\tloss=1288.0507\r"
     ]
    },
    {
     "name": "stderr",
     "output_type": "stream",
     "text": [
      "89it [00:22,  3.88it/s]                        \n"
     ]
    },
    {
     "name": "stdout",
     "output_type": "stream",
     "text": [
      "Epoch=29\tloss=1288.7474\r"
     ]
    },
    {
     "name": "stderr",
     "output_type": "stream",
     "text": [
      "89it [00:23,  3.86it/s]                        \n"
     ]
    },
    {
     "name": "stdout",
     "output_type": "stream",
     "text": [
      "Epoch=30\tloss=1289.4293\r"
     ]
    },
    {
     "name": "stderr",
     "output_type": "stream",
     "text": [
      "89it [00:23,  3.86it/s]                        \n"
     ]
    },
    {
     "name": "stdout",
     "output_type": "stream",
     "text": [
      "Epoch=31\tloss=1294.0653\r"
     ]
    },
    {
     "name": "stderr",
     "output_type": "stream",
     "text": [
      "89it [00:23,  3.86it/s]                        \n"
     ]
    },
    {
     "name": "stdout",
     "output_type": "stream",
     "text": [
      "Epoch=32\tloss=1291.2440\r"
     ]
    },
    {
     "name": "stderr",
     "output_type": "stream",
     "text": [
      "89it [00:23,  3.83it/s]                        \n"
     ]
    },
    {
     "name": "stdout",
     "output_type": "stream",
     "text": [
      "Epoch=33\tloss=1291.2201\r"
     ]
    },
    {
     "name": "stderr",
     "output_type": "stream",
     "text": [
      "89it [00:23,  3.85it/s]                        \n"
     ]
    },
    {
     "name": "stdout",
     "output_type": "stream",
     "text": [
      "Epoch=34\tloss=1287.3018\r"
     ]
    },
    {
     "name": "stderr",
     "output_type": "stream",
     "text": [
      "89it [00:23,  3.86it/s]                        \n"
     ]
    },
    {
     "name": "stdout",
     "output_type": "stream",
     "text": [
      "Epoch=35\tloss=1290.5991\r"
     ]
    },
    {
     "name": "stderr",
     "output_type": "stream",
     "text": [
      "89it [00:23,  3.85it/s]                        \n"
     ]
    },
    {
     "name": "stdout",
     "output_type": "stream",
     "text": [
      "Epoch=36\tloss=1290.6472\r"
     ]
    },
    {
     "name": "stderr",
     "output_type": "stream",
     "text": [
      "89it [00:23,  3.85it/s]                        \n"
     ]
    },
    {
     "name": "stdout",
     "output_type": "stream",
     "text": [
      "Epoch=37\tloss=1287.9298\r"
     ]
    },
    {
     "name": "stderr",
     "output_type": "stream",
     "text": [
      "89it [00:23,  3.84it/s]                        \n"
     ]
    },
    {
     "name": "stdout",
     "output_type": "stream",
     "text": [
      "Epoch=38\tloss=1290.9744\r"
     ]
    },
    {
     "name": "stderr",
     "output_type": "stream",
     "text": [
      "89it [00:22,  3.99it/s]                        \n"
     ]
    },
    {
     "name": "stdout",
     "output_type": "stream",
     "text": [
      "Epoch=39\tloss=1287.1197\r"
     ]
    },
    {
     "name": "stderr",
     "output_type": "stream",
     "text": [
      "89it [00:21,  4.14it/s]                        \n"
     ]
    },
    {
     "name": "stdout",
     "output_type": "stream",
     "text": [
      "Epoch=40\tloss=1289.9746\r"
     ]
    },
    {
     "name": "stderr",
     "output_type": "stream",
     "text": [
      "89it [00:20,  4.24it/s]                        \n"
     ]
    },
    {
     "name": "stdout",
     "output_type": "stream",
     "text": [
      "Epoch=41\tloss=1294.3691\r"
     ]
    },
    {
     "name": "stderr",
     "output_type": "stream",
     "text": [
      "89it [00:21,  4.15it/s]                        \n"
     ]
    },
    {
     "name": "stdout",
     "output_type": "stream",
     "text": [
      "Epoch=42\tloss=1291.4810\r"
     ]
    },
    {
     "name": "stderr",
     "output_type": "stream",
     "text": [
      "89it [00:20,  4.24it/s]                        \n"
     ]
    },
    {
     "name": "stdout",
     "output_type": "stream",
     "text": [
      "Epoch=43\tloss=1289.8682\r"
     ]
    },
    {
     "name": "stderr",
     "output_type": "stream",
     "text": [
      "89it [00:20,  4.25it/s]                        \n"
     ]
    },
    {
     "name": "stdout",
     "output_type": "stream",
     "text": [
      "Epoch=44\tloss=1289.8071\r"
     ]
    },
    {
     "name": "stderr",
     "output_type": "stream",
     "text": [
      "89it [00:21,  4.23it/s]                        \n"
     ]
    },
    {
     "name": "stdout",
     "output_type": "stream",
     "text": [
      "Epoch=45\tloss=1294.7748\r"
     ]
    },
    {
     "name": "stderr",
     "output_type": "stream",
     "text": [
      "89it [00:20,  4.24it/s]                        \n"
     ]
    },
    {
     "name": "stdout",
     "output_type": "stream",
     "text": [
      "Epoch=46\tloss=1291.6626\r"
     ]
    },
    {
     "name": "stderr",
     "output_type": "stream",
     "text": [
      "89it [00:21,  4.16it/s]                        \n"
     ]
    },
    {
     "name": "stdout",
     "output_type": "stream",
     "text": [
      "Epoch=47\tloss=1290.4978\r"
     ]
    },
    {
     "name": "stderr",
     "output_type": "stream",
     "text": [
      "89it [00:22,  3.89it/s]                        \n"
     ]
    },
    {
     "name": "stdout",
     "output_type": "stream",
     "text": [
      "Epoch=48\tloss=1289.3130\r"
     ]
    },
    {
     "name": "stderr",
     "output_type": "stream",
     "text": [
      "89it [00:22,  3.88it/s]                        \n"
     ]
    },
    {
     "name": "stdout",
     "output_type": "stream",
     "text": [
      "Epoch=49\tloss=1290.2385\r"
     ]
    },
    {
     "name": "stderr",
     "output_type": "stream",
     "text": [
      "89it [00:22,  3.94it/s]                        \n"
     ]
    },
    {
     "name": "stdout",
     "output_type": "stream",
     "text": [
      "Epoch=50\tloss=1288.1449\r"
     ]
    },
    {
     "name": "stderr",
     "output_type": "stream",
     "text": [
      "89it [00:22,  3.91it/s]                        \n"
     ]
    },
    {
     "name": "stdout",
     "output_type": "stream",
     "text": [
      "Epoch=51\tloss=1288.8809\r"
     ]
    },
    {
     "name": "stderr",
     "output_type": "stream",
     "text": [
      "89it [00:22,  3.91it/s]                        \n"
     ]
    },
    {
     "name": "stdout",
     "output_type": "stream",
     "text": [
      "Epoch=52\tloss=1289.0093\r"
     ]
    },
    {
     "name": "stderr",
     "output_type": "stream",
     "text": [
      "89it [00:22,  3.98it/s]                        \n"
     ]
    },
    {
     "name": "stdout",
     "output_type": "stream",
     "text": [
      "Epoch=53\tloss=1286.7111\r"
     ]
    },
    {
     "name": "stderr",
     "output_type": "stream",
     "text": [
      "89it [00:23,  3.83it/s]                        \n"
     ]
    },
    {
     "name": "stdout",
     "output_type": "stream",
     "text": [
      "Epoch=54\tloss=1292.1888\r"
     ]
    },
    {
     "name": "stderr",
     "output_type": "stream",
     "text": [
      "89it [00:23,  3.84it/s]                        \n"
     ]
    },
    {
     "name": "stdout",
     "output_type": "stream",
     "text": [
      "Epoch=55\tloss=1289.8462\r"
     ]
    },
    {
     "name": "stderr",
     "output_type": "stream",
     "text": [
      "89it [00:23,  3.81it/s]                        \n"
     ]
    },
    {
     "name": "stdout",
     "output_type": "stream",
     "text": [
      "Epoch=56\tloss=1290.8962\r"
     ]
    },
    {
     "name": "stderr",
     "output_type": "stream",
     "text": [
      "89it [00:23,  3.84it/s]                        \n"
     ]
    },
    {
     "name": "stdout",
     "output_type": "stream",
     "text": [
      "Epoch=57\tloss=1290.5942\r"
     ]
    },
    {
     "name": "stderr",
     "output_type": "stream",
     "text": [
      "89it [00:23,  3.84it/s]                        \n"
     ]
    },
    {
     "name": "stdout",
     "output_type": "stream",
     "text": [
      "Epoch=58\tloss=1289.3994\r"
     ]
    },
    {
     "name": "stderr",
     "output_type": "stream",
     "text": [
      "89it [00:22,  3.96it/s]                        \n"
     ]
    },
    {
     "name": "stdout",
     "output_type": "stream",
     "text": [
      "Epoch=59\tloss=1284.3067\r"
     ]
    },
    {
     "name": "stderr",
     "output_type": "stream",
     "text": [
      "89it [00:22,  4.00it/s]                        \n"
     ]
    },
    {
     "name": "stdout",
     "output_type": "stream",
     "text": [
      "Epoch=60\tloss=1290.8211\r"
     ]
    },
    {
     "name": "stderr",
     "output_type": "stream",
     "text": [
      "89it [00:22,  3.99it/s]                        \n"
     ]
    },
    {
     "name": "stdout",
     "output_type": "stream",
     "text": [
      "Epoch=61\tloss=1289.6643\r"
     ]
    },
    {
     "name": "stderr",
     "output_type": "stream",
     "text": [
      "89it [00:21,  4.05it/s]                        \n"
     ]
    },
    {
     "name": "stdout",
     "output_type": "stream",
     "text": [
      "Epoch=62\tloss=1291.0863\r"
     ]
    },
    {
     "name": "stderr",
     "output_type": "stream",
     "text": [
      "89it [00:21,  4.05it/s]                        \n"
     ]
    },
    {
     "name": "stdout",
     "output_type": "stream",
     "text": [
      "Epoch=63\tloss=1291.7116\r"
     ]
    },
    {
     "name": "stderr",
     "output_type": "stream",
     "text": [
      "89it [00:21,  4.06it/s]                        \n"
     ]
    },
    {
     "name": "stdout",
     "output_type": "stream",
     "text": [
      "Epoch=64\tloss=1292.5107\r"
     ]
    },
    {
     "name": "stderr",
     "output_type": "stream",
     "text": [
      "89it [00:21,  4.05it/s]                        \n"
     ]
    },
    {
     "name": "stdout",
     "output_type": "stream",
     "text": [
      "Epoch=65\tloss=1286.8197\r"
     ]
    },
    {
     "name": "stderr",
     "output_type": "stream",
     "text": [
      "89it [00:21,  4.06it/s]                        \n"
     ]
    },
    {
     "name": "stdout",
     "output_type": "stream",
     "text": [
      "Epoch=66\tloss=1288.7666\r"
     ]
    },
    {
     "name": "stderr",
     "output_type": "stream",
     "text": [
      "89it [00:21,  4.06it/s]                        \n"
     ]
    },
    {
     "name": "stdout",
     "output_type": "stream",
     "text": [
      "Epoch=67\tloss=1290.1618\r"
     ]
    },
    {
     "name": "stderr",
     "output_type": "stream",
     "text": [
      "89it [00:21,  4.05it/s]                        \n"
     ]
    },
    {
     "name": "stdout",
     "output_type": "stream",
     "text": [
      "Epoch=68\tloss=1292.9755\r"
     ]
    },
    {
     "name": "stderr",
     "output_type": "stream",
     "text": [
      "89it [00:21,  4.06it/s]                        \n"
     ]
    },
    {
     "name": "stdout",
     "output_type": "stream",
     "text": [
      "Epoch=69\tloss=1286.0506\r"
     ]
    },
    {
     "name": "stderr",
     "output_type": "stream",
     "text": [
      "89it [00:21,  4.07it/s]                        \n"
     ]
    },
    {
     "name": "stdout",
     "output_type": "stream",
     "text": [
      "Epoch=70\tloss=1292.2912\r"
     ]
    },
    {
     "name": "stderr",
     "output_type": "stream",
     "text": [
      "89it [00:22,  4.03it/s]                        \n"
     ]
    },
    {
     "name": "stdout",
     "output_type": "stream",
     "text": [
      "Epoch=71\tloss=1290.5465\r"
     ]
    },
    {
     "name": "stderr",
     "output_type": "stream",
     "text": [
      "89it [00:22,  3.99it/s]                        \n"
     ]
    },
    {
     "name": "stdout",
     "output_type": "stream",
     "text": [
      "Epoch=72\tloss=1291.2835\r"
     ]
    },
    {
     "name": "stderr",
     "output_type": "stream",
     "text": [
      "89it [00:22,  4.03it/s]                        \n"
     ]
    },
    {
     "name": "stdout",
     "output_type": "stream",
     "text": [
      "Epoch=73\tloss=1286.6434\r"
     ]
    },
    {
     "name": "stderr",
     "output_type": "stream",
     "text": [
      "89it [00:22,  4.04it/s]                        \n"
     ]
    },
    {
     "name": "stdout",
     "output_type": "stream",
     "text": [
      "Epoch=74\tloss=1292.5955\r"
     ]
    },
    {
     "name": "stderr",
     "output_type": "stream",
     "text": [
      "89it [00:21,  4.06it/s]                        \n"
     ]
    },
    {
     "name": "stdout",
     "output_type": "stream",
     "text": [
      "Epoch=75\tloss=1289.9296\r"
     ]
    },
    {
     "name": "stderr",
     "output_type": "stream",
     "text": [
      "89it [00:21,  4.05it/s]                        \n"
     ]
    },
    {
     "name": "stdout",
     "output_type": "stream",
     "text": [
      "Epoch=76\tloss=1289.3432\r"
     ]
    },
    {
     "name": "stderr",
     "output_type": "stream",
     "text": [
      "89it [00:21,  4.06it/s]                        \n"
     ]
    },
    {
     "name": "stdout",
     "output_type": "stream",
     "text": [
      "Epoch=77\tloss=1289.7652\r"
     ]
    },
    {
     "name": "stderr",
     "output_type": "stream",
     "text": [
      "89it [00:22,  3.99it/s]                        \n"
     ]
    },
    {
     "name": "stdout",
     "output_type": "stream",
     "text": [
      "Epoch=78\tloss=1289.1603\r"
     ]
    },
    {
     "name": "stderr",
     "output_type": "stream",
     "text": [
      "89it [00:21,  4.18it/s]                        \n"
     ]
    },
    {
     "name": "stdout",
     "output_type": "stream",
     "text": [
      "Epoch=79\tloss=1288.5855\r"
     ]
    },
    {
     "name": "stderr",
     "output_type": "stream",
     "text": [
      "89it [00:21,  4.21it/s]                        \n"
     ]
    },
    {
     "name": "stdout",
     "output_type": "stream",
     "text": [
      "Epoch=80\tloss=1289.7675\r"
     ]
    },
    {
     "name": "stderr",
     "output_type": "stream",
     "text": [
      "89it [00:22,  3.96it/s]                        \n"
     ]
    },
    {
     "name": "stdout",
     "output_type": "stream",
     "text": [
      "Epoch=81\tloss=1294.2527\r"
     ]
    },
    {
     "name": "stderr",
     "output_type": "stream",
     "text": [
      "89it [00:21,  4.05it/s]                        \n"
     ]
    },
    {
     "name": "stdout",
     "output_type": "stream",
     "text": [
      "Epoch=82\tloss=1289.4908\r"
     ]
    },
    {
     "name": "stderr",
     "output_type": "stream",
     "text": [
      "89it [00:22,  3.99it/s]                        \n"
     ]
    },
    {
     "name": "stdout",
     "output_type": "stream",
     "text": [
      "Epoch=83\tloss=1289.1639\r"
     ]
    },
    {
     "name": "stderr",
     "output_type": "stream",
     "text": [
      "89it [00:23,  3.83it/s]                        \n"
     ]
    },
    {
     "name": "stdout",
     "output_type": "stream",
     "text": [
      "Epoch=84\tloss=1290.2865\r"
     ]
    },
    {
     "name": "stderr",
     "output_type": "stream",
     "text": [
      "89it [00:22,  3.88it/s]                        \n"
     ]
    },
    {
     "name": "stdout",
     "output_type": "stream",
     "text": [
      "Epoch=85\tloss=1293.7476\r"
     ]
    },
    {
     "name": "stderr",
     "output_type": "stream",
     "text": [
      "89it [00:22,  3.94it/s]                        \n"
     ]
    },
    {
     "name": "stdout",
     "output_type": "stream",
     "text": [
      "Epoch=86\tloss=1291.3157\r"
     ]
    },
    {
     "name": "stderr",
     "output_type": "stream",
     "text": [
      "89it [00:23,  3.74it/s]                        \n"
     ]
    },
    {
     "name": "stdout",
     "output_type": "stream",
     "text": [
      "Epoch=87\tloss=1288.2652\r"
     ]
    },
    {
     "name": "stderr",
     "output_type": "stream",
     "text": [
      "89it [00:23,  3.73it/s]                        \n"
     ]
    },
    {
     "name": "stdout",
     "output_type": "stream",
     "text": [
      "Epoch=88\tloss=1288.4198\r"
     ]
    },
    {
     "name": "stderr",
     "output_type": "stream",
     "text": [
      "89it [00:23,  3.76it/s]                        \n"
     ]
    },
    {
     "name": "stdout",
     "output_type": "stream",
     "text": [
      "Epoch=89\tloss=1288.5485\r"
     ]
    },
    {
     "name": "stderr",
     "output_type": "stream",
     "text": [
      "89it [00:23,  3.74it/s]                        \n"
     ]
    },
    {
     "name": "stdout",
     "output_type": "stream",
     "text": [
      "Epoch=90\tloss=1288.1082\r"
     ]
    },
    {
     "name": "stderr",
     "output_type": "stream",
     "text": [
      "89it [00:23,  3.79it/s]                        \n"
     ]
    },
    {
     "name": "stdout",
     "output_type": "stream",
     "text": [
      "Epoch=91\tloss=1292.0670\r"
     ]
    },
    {
     "name": "stderr",
     "output_type": "stream",
     "text": [
      "89it [00:23,  3.78it/s]                        \n"
     ]
    },
    {
     "name": "stdout",
     "output_type": "stream",
     "text": [
      "Epoch=92\tloss=1292.2149\r"
     ]
    },
    {
     "name": "stderr",
     "output_type": "stream",
     "text": [
      "89it [00:23,  3.79it/s]                        \n"
     ]
    },
    {
     "name": "stdout",
     "output_type": "stream",
     "text": [
      "Epoch=93\tloss=1289.7493\r"
     ]
    },
    {
     "name": "stderr",
     "output_type": "stream",
     "text": [
      "89it [00:23,  3.79it/s]                        \n"
     ]
    },
    {
     "name": "stdout",
     "output_type": "stream",
     "text": [
      "Epoch=94\tloss=1285.8194\r"
     ]
    },
    {
     "name": "stderr",
     "output_type": "stream",
     "text": [
      "89it [00:23,  3.77it/s]                        \n"
     ]
    },
    {
     "name": "stdout",
     "output_type": "stream",
     "text": [
      "Epoch=95\tloss=1296.4275\r"
     ]
    },
    {
     "name": "stderr",
     "output_type": "stream",
     "text": [
      "89it [00:23,  3.79it/s]                        \n"
     ]
    },
    {
     "name": "stdout",
     "output_type": "stream",
     "text": [
      "Epoch=96\tloss=1291.0303\r"
     ]
    },
    {
     "name": "stderr",
     "output_type": "stream",
     "text": [
      "89it [00:22,  3.88it/s]                        \n"
     ]
    },
    {
     "name": "stdout",
     "output_type": "stream",
     "text": [
      "Epoch=97\tloss=1292.5902\r"
     ]
    },
    {
     "name": "stderr",
     "output_type": "stream",
     "text": [
      "89it [00:22,  3.90it/s]                        \n"
     ]
    },
    {
     "name": "stdout",
     "output_type": "stream",
     "text": [
      "Epoch=98\tloss=1289.9219\r"
     ]
    },
    {
     "name": "stderr",
     "output_type": "stream",
     "text": [
      "89it [00:23,  3.81it/s]                        \n"
     ]
    },
    {
     "name": "stdout",
     "output_type": "stream",
     "text": [
      "Epoch=99\tloss=1288.1171\r"
     ]
    },
    {
     "name": "stderr",
     "output_type": "stream",
     "text": [
      "89it [00:23,  3.85it/s]                        \n"
     ]
    },
    {
     "name": "stdout",
     "output_type": "stream",
     "text": [
      "Epoch=100\tloss=1288.5721\r"
     ]
    },
    {
     "name": "stderr",
     "output_type": "stream",
     "text": [
      "89it [00:22,  3.90it/s]                        \n"
     ]
    },
    {
     "name": "stdout",
     "output_type": "stream",
     "text": [
      "Epoch=101\tloss=1288.4740\r"
     ]
    },
    {
     "name": "stderr",
     "output_type": "stream",
     "text": [
      "89it [00:22,  3.89it/s]                        \n"
     ]
    },
    {
     "name": "stdout",
     "output_type": "stream",
     "text": [
      "Epoch=102\tloss=1291.0362\r"
     ]
    },
    {
     "name": "stderr",
     "output_type": "stream",
     "text": [
      "89it [00:23,  3.71it/s]                        \n"
     ]
    },
    {
     "name": "stdout",
     "output_type": "stream",
     "text": [
      "Epoch=103\tloss=1290.1899\r"
     ]
    },
    {
     "name": "stderr",
     "output_type": "stream",
     "text": [
      "89it [00:22,  4.04it/s]                        \n"
     ]
    },
    {
     "name": "stdout",
     "output_type": "stream",
     "text": [
      "Epoch=104\tloss=1292.1700\r"
     ]
    },
    {
     "name": "stderr",
     "output_type": "stream",
     "text": [
      "89it [00:22,  3.95it/s]                        \n"
     ]
    },
    {
     "name": "stdout",
     "output_type": "stream",
     "text": [
      "Epoch=105\tloss=1288.2309\r"
     ]
    },
    {
     "name": "stderr",
     "output_type": "stream",
     "text": [
      "89it [00:21,  4.05it/s]                        \n"
     ]
    },
    {
     "name": "stdout",
     "output_type": "stream",
     "text": [
      "Epoch=106\tloss=1288.4937\r"
     ]
    },
    {
     "name": "stderr",
     "output_type": "stream",
     "text": [
      "89it [00:21,  4.08it/s]                        \n"
     ]
    },
    {
     "name": "stdout",
     "output_type": "stream",
     "text": [
      "Epoch=107\tloss=1289.3761\r"
     ]
    },
    {
     "name": "stderr",
     "output_type": "stream",
     "text": [
      "89it [00:21,  4.10it/s]                        \n"
     ]
    },
    {
     "name": "stdout",
     "output_type": "stream",
     "text": [
      "Epoch=108\tloss=1288.7735\r"
     ]
    },
    {
     "name": "stderr",
     "output_type": "stream",
     "text": [
      "89it [00:22,  4.03it/s]                        \n"
     ]
    },
    {
     "name": "stdout",
     "output_type": "stream",
     "text": [
      "Epoch=109\tloss=1290.4265\r"
     ]
    },
    {
     "name": "stderr",
     "output_type": "stream",
     "text": [
      "89it [00:22,  4.04it/s]                        \n"
     ]
    },
    {
     "name": "stdout",
     "output_type": "stream",
     "text": [
      "Epoch=110\tloss=1292.6277\r"
     ]
    },
    {
     "name": "stderr",
     "output_type": "stream",
     "text": [
      "89it [00:21,  4.07it/s]                        \n"
     ]
    },
    {
     "name": "stdout",
     "output_type": "stream",
     "text": [
      "Epoch=111\tloss=1293.4580\r"
     ]
    },
    {
     "name": "stderr",
     "output_type": "stream",
     "text": [
      "89it [00:21,  4.07it/s]                        \n"
     ]
    },
    {
     "name": "stdout",
     "output_type": "stream",
     "text": [
      "Epoch=112\tloss=1293.2467\r"
     ]
    },
    {
     "name": "stderr",
     "output_type": "stream",
     "text": [
      "89it [00:21,  4.24it/s]                        \n"
     ]
    },
    {
     "name": "stdout",
     "output_type": "stream",
     "text": [
      "Epoch=113\tloss=1291.1910\r"
     ]
    },
    {
     "name": "stderr",
     "output_type": "stream",
     "text": [
      "89it [00:20,  4.29it/s]                        \n"
     ]
    },
    {
     "name": "stdout",
     "output_type": "stream",
     "text": [
      "Epoch=114\tloss=1286.3692\r"
     ]
    },
    {
     "name": "stderr",
     "output_type": "stream",
     "text": [
      "89it [00:21,  4.21it/s]                        \n"
     ]
    },
    {
     "name": "stdout",
     "output_type": "stream",
     "text": [
      "Epoch=115\tloss=1286.5655\r"
     ]
    },
    {
     "name": "stderr",
     "output_type": "stream",
     "text": [
      "89it [00:20,  4.25it/s]                        \n"
     ]
    },
    {
     "name": "stdout",
     "output_type": "stream",
     "text": [
      "Epoch=116\tloss=1291.0605\r"
     ]
    },
    {
     "name": "stderr",
     "output_type": "stream",
     "text": [
      "89it [00:21,  4.22it/s]                        \n"
     ]
    },
    {
     "name": "stdout",
     "output_type": "stream",
     "text": [
      "Epoch=117\tloss=1292.2536\r"
     ]
    },
    {
     "name": "stderr",
     "output_type": "stream",
     "text": [
      "89it [00:20,  4.24it/s]                        \n"
     ]
    },
    {
     "name": "stdout",
     "output_type": "stream",
     "text": [
      "Epoch=118\tloss=1287.6223\r"
     ]
    },
    {
     "name": "stderr",
     "output_type": "stream",
     "text": [
      "89it [00:21,  4.21it/s]                        \n"
     ]
    },
    {
     "name": "stdout",
     "output_type": "stream",
     "text": [
      "Epoch=119\tloss=1295.1265\r"
     ]
    },
    {
     "name": "stderr",
     "output_type": "stream",
     "text": [
      "89it [00:20,  4.29it/s]                        \n"
     ]
    },
    {
     "name": "stdout",
     "output_type": "stream",
     "text": [
      "Epoch=120\tloss=1291.4328\r"
     ]
    },
    {
     "name": "stderr",
     "output_type": "stream",
     "text": [
      "89it [00:21,  4.12it/s]                        \n"
     ]
    },
    {
     "name": "stdout",
     "output_type": "stream",
     "text": [
      "Epoch=121\tloss=1287.7991\r"
     ]
    },
    {
     "name": "stderr",
     "output_type": "stream",
     "text": [
      "89it [00:21,  4.20it/s]                        \n"
     ]
    },
    {
     "name": "stdout",
     "output_type": "stream",
     "text": [
      "Epoch=122\tloss=1289.7309\r"
     ]
    },
    {
     "name": "stderr",
     "output_type": "stream",
     "text": [
      "89it [00:21,  4.19it/s]                        \n"
     ]
    },
    {
     "name": "stdout",
     "output_type": "stream",
     "text": [
      "Epoch=123\tloss=1289.6311\r"
     ]
    },
    {
     "name": "stderr",
     "output_type": "stream",
     "text": [
      "89it [00:21,  4.08it/s]                        \n"
     ]
    },
    {
     "name": "stdout",
     "output_type": "stream",
     "text": [
      "Epoch=124\tloss=1287.9656\r"
     ]
    },
    {
     "name": "stderr",
     "output_type": "stream",
     "text": [
      "89it [00:21,  4.06it/s]                        \n"
     ]
    },
    {
     "name": "stdout",
     "output_type": "stream",
     "text": [
      "Epoch=125\tloss=1293.7885\r"
     ]
    },
    {
     "name": "stderr",
     "output_type": "stream",
     "text": [
      "89it [00:22,  4.02it/s]                        \n"
     ]
    },
    {
     "name": "stdout",
     "output_type": "stream",
     "text": [
      "Epoch=126\tloss=1291.2466\r"
     ]
    },
    {
     "name": "stderr",
     "output_type": "stream",
     "text": [
      "89it [00:21,  4.10it/s]                        \n"
     ]
    },
    {
     "name": "stdout",
     "output_type": "stream",
     "text": [
      "Epoch=127\tloss=1288.4156\r"
     ]
    },
    {
     "name": "stderr",
     "output_type": "stream",
     "text": [
      "89it [00:21,  4.18it/s]                        \n"
     ]
    },
    {
     "name": "stdout",
     "output_type": "stream",
     "text": [
      "Epoch=128\tloss=1290.4915\r"
     ]
    },
    {
     "name": "stderr",
     "output_type": "stream",
     "text": [
      "89it [00:20,  4.24it/s]                        \n"
     ]
    },
    {
     "name": "stdout",
     "output_type": "stream",
     "text": [
      "Epoch=129\tloss=1291.1017\r"
     ]
    },
    {
     "name": "stderr",
     "output_type": "stream",
     "text": [
      "89it [00:21,  4.24it/s]                        \n"
     ]
    },
    {
     "name": "stdout",
     "output_type": "stream",
     "text": [
      "Epoch=130\tloss=1286.8573\r"
     ]
    },
    {
     "name": "stderr",
     "output_type": "stream",
     "text": [
      "89it [00:21,  4.23it/s]                        \n"
     ]
    },
    {
     "name": "stdout",
     "output_type": "stream",
     "text": [
      "Epoch=131\tloss=1290.7530\r"
     ]
    },
    {
     "name": "stderr",
     "output_type": "stream",
     "text": [
      "89it [00:21,  4.23it/s]                        \n"
     ]
    },
    {
     "name": "stdout",
     "output_type": "stream",
     "text": [
      "Epoch=132\tloss=1290.8073\r"
     ]
    },
    {
     "name": "stderr",
     "output_type": "stream",
     "text": [
      "89it [00:21,  4.23it/s]                        \n"
     ]
    },
    {
     "name": "stdout",
     "output_type": "stream",
     "text": [
      "Epoch=133\tloss=1293.5741\r"
     ]
    },
    {
     "name": "stderr",
     "output_type": "stream",
     "text": [
      "89it [00:21,  4.22it/s]                        \n"
     ]
    },
    {
     "name": "stdout",
     "output_type": "stream",
     "text": [
      "Epoch=134\tloss=1292.1440\r"
     ]
    },
    {
     "name": "stderr",
     "output_type": "stream",
     "text": [
      "89it [00:20,  4.24it/s]                        \n"
     ]
    },
    {
     "name": "stdout",
     "output_type": "stream",
     "text": [
      "Epoch=135\tloss=1285.8025\r"
     ]
    },
    {
     "name": "stderr",
     "output_type": "stream",
     "text": [
      "89it [00:21,  4.23it/s]                        \n"
     ]
    },
    {
     "name": "stdout",
     "output_type": "stream",
     "text": [
      "Epoch=136\tloss=1290.5013\r"
     ]
    },
    {
     "name": "stderr",
     "output_type": "stream",
     "text": [
      "89it [00:21,  4.23it/s]                        \n"
     ]
    },
    {
     "name": "stdout",
     "output_type": "stream",
     "text": [
      "Epoch=137\tloss=1286.8555\r"
     ]
    },
    {
     "name": "stderr",
     "output_type": "stream",
     "text": [
      "89it [00:21,  4.23it/s]                        \n"
     ]
    },
    {
     "name": "stdout",
     "output_type": "stream",
     "text": [
      "Epoch=138\tloss=1288.1309\r"
     ]
    },
    {
     "name": "stderr",
     "output_type": "stream",
     "text": [
      "89it [00:21,  4.20it/s]                        \n"
     ]
    },
    {
     "name": "stdout",
     "output_type": "stream",
     "text": [
      "Epoch=139\tloss=1291.6869\r"
     ]
    },
    {
     "name": "stderr",
     "output_type": "stream",
     "text": [
      " 74%|███████▍  | 65/88 [00:15<00:05,  3.84it/s]"
     ]
    }
   ],
   "source": [
    "# TRAIN DFDB\n",
    "trainset, valset, testset = get_binary_testset(\"oc dar\") \n",
    "dataset_name =  \"DFDB\"\n",
    "train_loader = torch.utils.data.DataLoader(\n",
    "    datasets.ImageFolder(trainset, \n",
    "                         transform=transform_train),\n",
    "                         batch_size=batch_size, \n",
    "                         shuffle=True,\n",
    "                         drop_last = True)\n",
    "fakedect = vae().to(device)\n",
    "optimizer = optim.Adam(fakedect.parameters(), lr=1e-4)\n",
    "history_dfdb = []\n",
    "# LOAD OLD WEIGHTS\n",
    "weights_path = f\"../../_WEIGHTS/oc_fakedect/OCFD1_Retrained_{dataset_name}.pkl\"\n",
    "fakedect = torch.load(weights_path)\n",
    "# TRAIN LOOP\n",
    "n_dpoints = len(train_loader.dataset)\n",
    "for epoch in range(epochs):\n",
    "    fakedect.train() # train mode\n",
    "    train_loss = 0\n",
    "    for batch_idx, (inputs, _) in tqdm(enumerate(train_loader), total=n_dpoints//batch_size-1):\n",
    "        inputs = inputs.to(device)\n",
    "        gen_imgs, mean, logvar = fakedect(inputs)\n",
    "        loss = loss_function(gen_imgs, inputs, mean, logvar)\n",
    "        optimizer.zero_grad()\n",
    "        loss.backward()\n",
    "        optimizer.step()\n",
    "        train_loss += loss.item()\n",
    "    L = train_loss / n_dpoints\n",
    "    history_dfdb += [L]\n",
    "    print(f\"Epoch={epoch}\\tloss={L:.4f}\", end=\"\\r\")\n",
    "weights_path = f\"../../_WEIGHTS/oc_fakedect/OCFD1_Retrained2_{dataset_name}.pkl\"\n",
    "torch.save(fakedect, weights_path)\n",
    "\n",
    "# TRAIN CDFv2 RND\n",
    "fakedect = vae().to(device) # RESET WEIGHTS\n",
    "trainset, valset, testset = get_binary_testset(\"oc rnd\") \n",
    "dataset_name =  \"RND\"\n",
    "train_loader = torch.utils.data.DataLoader(\n",
    "    datasets.ImageFolder(trainset, \n",
    "                         transform=transform_train),\n",
    "                         batch_size=batch_size, \n",
    "                         shuffle=True,\n",
    "                         drop_last = True)\n",
    "optimizer = optim.Adam(fakedect.parameters(), lr=1e-4)\n",
    "history_rnd = []\n",
    "# TRAIN LOOP\n",
    "n_dpoints = len(train_loader.dataset)\n",
    "for epoch in range(epochs):\n",
    "    fakedect.train() # train mode\n",
    "    train_loss = 0\n",
    "    for batch_idx, (inputs, _) in tqdm(enumerate(train_loader), total=n_dpoints//batch_size-1):\n",
    "        inputs = inputs.to(device)\n",
    "        gen_imgs, mean, logvar = fakedect(inputs)\n",
    "        loss = loss_function(gen_imgs, inputs, mean, logvar)\n",
    "        optimizer.zero_grad()\n",
    "        loss.backward()\n",
    "        optimizer.step()\n",
    "        train_loss += loss.item()\n",
    "    L = train_loss / n_dpoints\n",
    "    history_rnd += [L]\n",
    "    print(f\"Epoch={epoch}\\tloss={L:.4f}\", end=\"\\r\")\n",
    "weights_path = f\"../../_WEIGHTS/oc_fakedect/OCFD1_Retrained2_{dataset_name}.pkl\"\n",
    "torch.save(fakedect, weights_path)\n",
    "\n",
    "# TRAIN CDFv2 AVG\n",
    "fakedect = vae().to(device) # RESET WEIGHTS\n",
    "trainset, valset, testset = get_binary_testset(\"oc avg\") \n",
    "dataset_name =  \"AVG\"\n",
    "train_loader = torch.utils.data.DataLoader(\n",
    "    datasets.ImageFolder(trainset, \n",
    "                         transform=transform_train),\n",
    "                         batch_size=batch_size, \n",
    "                         shuffle=True,\n",
    "                         drop_last = True)\n",
    "optimizer = optim.Adam(fakedect.parameters(), lr=1e-4)\n",
    "history_avg = []\n",
    "# TRAIN LOOP\n",
    "n_dpoints = len(train_loader.dataset)\n",
    "for epoch in range(epochs):\n",
    "    fakedect.train() # train mode\n",
    "    train_loss = 0\n",
    "    for batch_idx, (inputs, _) in tqdm(enumerate(train_loader), total=n_dpoints//batch_size-1):\n",
    "        inputs = inputs.to(device)\n",
    "        gen_imgs, mean, logvar = fakedect(inputs)\n",
    "        loss = loss_function(gen_imgs, inputs, mean, logvar)\n",
    "        optimizer.zero_grad()\n",
    "        loss.backward()\n",
    "        optimizer.step()\n",
    "        train_loss += loss.item()\n",
    "    L = train_loss / n_dpoints\n",
    "    history_avg += [L]\n",
    "    print(f\"Epoch={epoch}\\tloss={L:.4f}\", end=\"\\r\")\n",
    "weights_path = f\"../../_WEIGHTS/oc_fakedect/OCFD1_Retrained2_{dataset_name}.pkl\"\n",
    "torch.save(fakedect, weights_path)\n",
    "fakedect = vae().to(device) # RESET WEIGHTS\n",
    "    # if L < min_loss:\n",
    "    #     min_loss = L\n",
    "    #     torch.save(fakedect, f\"../../_WEIGHTS/oc_fakedect/OC_FD_e{epoch+1}_l{int(L)}_{dataset_name}.pkl\")\n",
    "    #     print(f\"../../_WEIGHTS/oc_fakedect/OC_FD_e{epoch+1}_l{int(L)}_{dataset_name}.pkl\")\n",
    "    #     early_stop_coutner = 0\n",
    "    # else:\n",
    "    #     early_stop_coutner += 1\n",
    "    \n",
    "    # if early_stop_coutner>20:\n",
    "    #     break\n",
    "# print(summary(fakedect, (3, img_size, img_size)))"
   ]
  },
  {
   "cell_type": "code",
   "execution_count": null,
   "id": "9b2fd789",
   "metadata": {},
   "outputs": [],
   "source": [
    "# history = []\n",
    "\n",
    "# early_stop_coutner = 0\n",
    "# weights_path = f\"../../_WEIGHTS/oc_fakedect/OC_FD_e29_l500_AVG.pkl\"\n",
    "# fakedect = torch.load(weights_path)\n",
    "\n",
    "# n_dpoints = len(train_loader.dataset)\n",
    "# min_loss = float(\"inf\")\n",
    "# for epoch in range(epochs):#tqdm(range(epochs), total=epochs):\n",
    "#     fakedect.train() # train mode\n",
    "#     train_loss = 0\n",
    "#     for batch_idx, (inputs, _) in tqdm(enumerate(train_loader), total=n_dpoints//batch_size-1):\n",
    "#         inputs = inputs.to(device)\n",
    "#         gen_imgs, mean, logvar = fakedect(inputs)\n",
    "#         loss = loss_function(gen_imgs, inputs, mean, logvar)\n",
    "#         optimizer.zero_grad()\n",
    "#         loss.backward()\n",
    "#         optimizer.step()\n",
    "#         train_loss += loss.item()\n",
    "#     L = train_loss / n_dpoints\n",
    "#     history += [L]\n",
    "#     print(f\"Epoch={epoch}\\tloss={L:.4f}\")\n",
    "#     if L < min_loss:\n",
    "#         min_loss = L\n",
    "#         torch.save(fakedect, f\"../../_WEIGHTS/oc_fakedect/OC_FD_e{epoch+1}_l{int(L)}_{dataset_name}.pkl\")\n",
    "#         print(f\"../../_WEIGHTS/oc_fakedect/OC_FD_e{epoch+1}_l{int(L)}_{dataset_name}.pkl\")\n",
    "#         early_stop_coutner = 0\n",
    "#     else:\n",
    "#         early_stop_coutner += 1\n",
    "    \n",
    "#     if early_stop_coutner>20:\n",
    "#         break"
   ]
  },
  {
   "cell_type": "code",
   "execution_count": null,
   "id": "b2c6a8f8",
   "metadata": {},
   "outputs": [],
   "source": [
    "# load best weights for eval\n",
    "# weights_path = \"../../_WEIGHTS/oc_fakedect/OC_FD_e29_l500_AVG.pkl\"\n",
    "# weights_path = \"../../_WEIGHTS/oc_fakedect/OC_FD_e2_l532_RND.pkl\"\n",
    "\n",
    "# weights_path = \"../../_WEIGHTS/oc_fakedect/OC_FD_e204_l1429_DFDB.pkl\"\n",
    "# weights_path = \"../../_WEIGHTS/oc_fakedect/OC_FD_e1_l1431_DFDB.pkl\"\n",
    "# fakedect = torch.load(weights_path)"
   ]
  },
  {
   "cell_type": "code",
   "execution_count": null,
   "id": "0550c0c9",
   "metadata": {},
   "outputs": [],
   "source": [
    "# # history_dfdb, history_rnd, history_avg = [1,2], [2,3], [3,4]\n",
    "# history_dfdb\n",
    "# history_rnd\n",
    "# history_avg"
   ]
  },
  {
   "cell_type": "code",
   "execution_count": null,
   "id": "282d9f98",
   "metadata": {},
   "outputs": [],
   "source": [
    "fig, ax = plt.subplots(1, figsize = (10, 10), sharex=True)\n",
    "ax.plot(history_dfdb, label=\"DFDB Training Loss\")\n",
    "ax.plot(history_rnd, label=\"CDFv2 (RF) Training Loss\")\n",
    "ax.plot(history_avg, label=\"CDFv2 (AF) Training Loss\")\n",
    "ax.set_title(f'OC-FakeDect1 Training Losses')\n",
    "ax.set_ylabel('Loss')\n",
    "ax.legend()\n",
    "plt.savefig(\n",
    "    f\"./Results/Losses2.pdf\",\n",
    "    bbox_inches=\"tight\",\n",
    ")\n",
    "plt.show()"
   ]
  },
  {
   "cell_type": "code",
   "execution_count": null,
   "id": "5e10b605",
   "metadata": {},
   "outputs": [],
   "source": [
    "# shwcse_img_path = \"D:/MInf/Datasets/Celeb-DF-v2-OC/Celeb-rnd-30-OC-realfake-test/Celeb-real/id11_0009_1.png\"\n",
    "# img = cv2.cvtColor(cv2.imread(shwcse_img_path), cv2.COLOR_BGR2RGB)\n",
    "# image = transform_test(img)\n",
    "# image = image.float().to(device)\n",
    "# # print(image.shape)\n",
    "# # fakedect = torch.load(weights_path)\n",
    "# fakedect.eval()\n",
    "# with torch.no_grad():\n",
    "#     x = image.view(-1,3,100,100)\n",
    "#     print(x.shape)\n",
    "#     decode_z, mean_z, logvar_z = fakedect(x)\n",
    "#     # print(decode_z.shape )\n",
    "# decode_z = decode_z.view(3,100,100).cpu()\n",
    "# decode_z = 255*(decode_z*0.5 + 0.5).numpy()\n",
    "# decode_z = decode_z.astype(int)\n",
    "# plt.subplot(1,2,1)\n",
    "# plt.imshow(img)\n",
    "# plt.subplot(1,2,2)\n",
    "# plt.imshow(decode_z.transpose(1,2,0))"
   ]
  },
  {
   "cell_type": "code",
   "execution_count": null,
   "id": "73238f04",
   "metadata": {},
   "outputs": [],
   "source": [
    "def solve(m1,m2,std1,std2):\n",
    "  a = 1/(2*std1**2) - 1/(2*std2**2)\n",
    "  b = m2/(std2**2) - m1/(std1**2)\n",
    "  c = m1**2 /(2*std1**2) - m2**2 / (2*std2**2) - np.log(std2/std1)\n",
    "  return np.roots([a,b,c])"
   ]
  },
  {
   "cell_type": "code",
   "execution_count": null,
   "id": "1626006a",
   "metadata": {},
   "outputs": [],
   "source": [
    "#               # experiment_name,                                       model_name,          testset_name,                 fname\n",
    "# EXPERIMENTS = [\n",
    "\n",
    "#                 (f\"OC-FakeDect1 (Trained on {dataset_name} Dataset)\\\n",
    "#                \\nTested on DFDB Dataset\",  f\"OC-FakeDect1_{dataset_name}\", \"DariusAf_Deepfake_Database\", f\"OC-FakeDect1_{dataset_name}_onDFDB\"),\n",
    "\n",
    "#                 # OC-FakeDect1 RND on Celebs indep eval\n",
    "#                (f\"OC-FakeDect1 (Trained on {dataset_name} Dataset)\\\n",
    "#                \\nTested on AVG CDFv2 Dataset\",  f\"OC-FakeDect1_{dataset_name}\", \"Celeb-avg-30\", f\"OC-FakeDect1_{dataset_name}_onAVG\"),\n",
    "\n",
    "#                (f\"OC-FakeDect1 (Trained on {dataset_name} Dataset)\\\n",
    "#                \\nTested on RND CDFv2 Dataset\",  f\"OC-FakeDect1_{dataset_name}\", \"Celeb-rnd-30\", f\"OC-FakeDect1_{dataset_name}_onRND\"),\n",
    "\n",
    "#                 # OC-FakeDect1 RND on Celebs rae\n",
    "#                 (f\"OC-FakeDect1 (Trained on {dataset_name} Dataset)\\\n",
    "#                \\nTested on AVG CDFv2 Dataset\\\n",
    "#                \\nRunning Average Evaluation\",  f\"OC-FakeDect1_{dataset_name}\", \"Celeb-avg-30\", f\"OC-FakeDect1_{dataset_name}_raeonAVG\"),\n",
    "\n",
    "#                (f\"OC-FakeDect1 (Trained on {dataset_name} Dataset)\\\n",
    "#                \\nTested on RND CDFv2 Dataset\\\n",
    "#                \\nRunning Average Evaluation\",  f\"OC-FakeDect1_{dataset_name}\", \"Celeb-rnd-30\", f\"OC-FakeDect1_{dataset_name}_raeonRND\"),\n",
    "\n",
    "#                 # OC-FakeDect1 RND on FF indep eval\n",
    "#                 # DF\n",
    "#                 (f\"OC-FakeDect1 (Trained on {dataset_name} Dataset)\\\n",
    "#                \\nTested on AVG Deepfakes Dataset\\\n",
    "#                \\nRunning Average Evaluation\",  f\"OC-FakeDect1_{dataset_name}\", \"Deepfakes_avg\", f\"OC-FakeDect1_{dataset_name}_raeonDFavg\"),\n",
    "             \n",
    "#                 (f\"OC-FakeDect1 (Trained on {dataset_name} Dataset)\\\n",
    "#                \\nTested on AVG Deepfakes Dataset\",  f\"OC-FakeDect1_{dataset_name}\", \"Deepfakes_avg\", f\"OC-FakeDect1_{dataset_name}_DFavg\"),\n",
    "             \n",
    "#                 (f\"OC-FakeDect1 (Trained on {dataset_name} Dataset)\\\n",
    "#                \\nTested on RND Deepfakes Dataset\\\n",
    "#                \\nRunning Average Evaluation\",  f\"OC-FakeDect1_{dataset_name}\", \"Deepfakes_rnd\", f\"OC-FakeDect1_{dataset_name}_raeonDFrnd\"),\n",
    "             \n",
    "#                 (f\"OC-FakeDect1 (Trained on {dataset_name} Dataset)\\\n",
    "#                \\nTested on RND Deepfakes Dataset\",  f\"OC-FakeDect1_{dataset_name}\", \"Deepfakes_rnd\", f\"OC-FakeDect1_{dataset_name}_DFrnd\"),\n",
    "\n",
    "#                 # F2F\n",
    "#                 (f\"OC-FakeDect1 (Trained on {dataset_name} Dataset)\\\n",
    "#                 \\nTested on AVG Face2Face Dataset\\\n",
    "#                 \\nRunning Average Evaluation\",  f\"OC-FakeDect1_{dataset_name}\", \"Face2Face_avg\", f\"OC-FakeDect1_{dataset_name}_raeonF2Favg\"),\n",
    "             \n",
    "#                 (f\"OC-FakeDect1 (Trained on {dataset_name} Dataset)\\\n",
    "#                 \\nTested on AVG Face2Face Dataset\",  f\"OC-FakeDect1_{dataset_name}\", \"Face2Face_avg\", f\"OC-FakeDect1_{dataset_name}_F2Favg\"),\n",
    "              \n",
    "#                 (f\"OC-FakeDect1 (Trained on {dataset_name} Dataset)\\\n",
    "#                 \\nTested on RND Face2Face Dataset\\\n",
    "#                 \\nRunning Average Evaluation\",  f\"OC-FakeDect1_{dataset_name}\", \"Face2Face_rnd\", f\"OC-FakeDect1_{dataset_name}_raeonF2Frnd\"),\n",
    "               \n",
    "#                 (f\"OC-FakeDect1 (Trained on {dataset_name} Dataset)\\\n",
    "#                 \\nTested on RND Face2Face Dataset\",  f\"OC-FakeDect1_{dataset_name}\", \"Face2Face_rnd\", f\"OC-FakeDect1_{dataset_name}_F2Frnd\"),\n",
    "\n",
    "#                 # FaceShifter\n",
    "#                 (f\"OC-FakeDect1 (Trained on {dataset_name} Dataset)\\\n",
    "#                 \\nTested on AVG FaceShifter Dataset\\\n",
    "#                 \\nRunning Average Evaluation\",  f\"OC-FakeDect1_{dataset_name}\", \"FaceShifter_avg\", f\"OC-FakeDect1_{dataset_name}_raeonFSHFTavg\"),\n",
    "                \n",
    "#                 (f\"OC-FakeDect1 (Trained on {dataset_name} Dataset)\\\n",
    "#                 \\nTested on AVG FaceShifter Dataset\",  f\"OC-FakeDect1_{dataset_name}\", \"FaceShifter_avg\", f\"OC-FakeDect1_{dataset_name}_FSHFTavg\"),\n",
    "               \n",
    "#                 (f\"OC-FakeDect1 (Trained on {dataset_name} Dataset)\\\n",
    "#                 \\nTested on RND FaceShifter Dataset\\\n",
    "#                 \\nRunning Average Evaluation\",  f\"OC-FakeDect1_{dataset_name}\", \"FaceShifter_rnd\", f\"OC-FakeDect1_{dataset_name}_raeonFSHFTrnd\"),\n",
    "                \n",
    "#                 (f\"OC-FakeDect1 (Trained on {dataset_name} Dataset)\\\n",
    "#                 \\nTested on RND FaceShifter Dataset\",  f\"OC-FakeDect1_{dataset_name}\", \"FaceShifter_rnd\", f\"OC-FakeDect1_{dataset_name}_FSHFTrnd\"),\n",
    "\n",
    "#                 # FaceSwap\n",
    "                \n",
    "#                 (f\"OC-FakeDect1 (Trained on {dataset_name} Dataset)\\\n",
    "#                 \\nTested on AVG FaceSwap Dataset\\\n",
    "#                 \\nRunning Average Evaluation\",  f\"OC-FakeDect1_{dataset_name}\", \"FaceSwap_avg\", f\"OC-FakeDect1_{dataset_name}_raeonFSavg\"),\n",
    "                \n",
    "#                 (f\"OC-FakeDect1 (Trained on {dataset_name} Dataset)\\\n",
    "#                 \\nTested on AVG FaceSwap Dataset\",  f\"OC-FakeDect1_{dataset_name}\", \"FaceSwap_avg\", f\"OC-FakeDect1_{dataset_name}_FSavg\"),\n",
    "                \n",
    "#                 (f\"OC-FakeDect1 (Trained on {dataset_name} Dataset)\\\n",
    "#                 \\nTested on RND FaceSwap Dataset\\\n",
    "#                 \\nRunning Average Evaluation\",  f\"OC-FakeDect1_{dataset_name}\", \"FaceSwap_rnd\", f\"OC-FakeDect1_{dataset_name}_raeonFSrnd\"),\n",
    "                \n",
    "#                 (f\"OC-FakeDect1 (Trained on {dataset_name} Dataset)\\\n",
    "#                 \\nTested on RND FaceSwap Dataset\",  f\"OC-FakeDect1_{dataset_name}\", \"FaceSwap_rnd\", f\"OC-FakeDect1_{dataset_name}_FSrnd\"),\n",
    "\n",
    "#                 # NeuralTextures\n",
    "#                 (f\"OC-FakeDect1 (Trained on {dataset_name} Dataset)\\\n",
    "#                 \\nTested on AVG NeuralTextures Dataset\\\n",
    "#                 \\nRunning Average Evaluation\",  f\"OC-FakeDect1_{dataset_name}\", \"NeuralTextures_avg\", f\"OC-FakeDect1_{dataset_name}_raeonNTavg\"),\n",
    "                \n",
    "#                 (f\"OC-FakeDect1 (Trained on {dataset_name} Dataset)\\\n",
    "#                 \\nTested on AVG NeuralTextures Dataset\",  f\"OC-FakeDect1_{dataset_name}\", \"NeuralTextures_avg\", f\"OC-FakeDect1_{dataset_name}_NTavg\"),\n",
    "                \n",
    "#                 (f\"OC-FakeDect1 (Trained on {dataset_name} Dataset)\\\n",
    "#                 \\nTested on RND NeuralTextures Dataset\\\n",
    "#                 \\nRunning Average Evaluation\",  f\"OC-FakeDect1_{dataset_name}\", \"NeuralTextures_rnd\", f\"OC-FakeDect1_{dataset_name}_raeonNTrnd\"),\n",
    "                \n",
    "#                 (f\"OC-FakeDect1 (Trained on {dataset_name} Dataset)\\\n",
    "#                 \\nTested on RND NeuralTextures Dataset\",  f\"OC-FakeDect1_{dataset_name}\", \"NeuralTextures_rnd\", f\"OC-FakeDect1_{dataset_name}_NTrnd\"),\n",
    "#                ]"
   ]
  },
  {
   "cell_type": "code",
   "execution_count": null,
   "id": "db23da5d",
   "metadata": {},
   "outputs": [],
   "source": [
    "for dataset_name in [\"DFDB\", \"AVG\", \"RND\"]:\n",
    "    weights_path = f\"OCFD1_Retrained2_{dataset_name}.pkl\"\n",
    "# for dataset_name, weights_path in zip([\"DFDB\", \"AVG\", \"RND\"], [\"OC_FD_e204_l1429_DFDB.pkl\", \"OC_FD_e29_l500_AVG.pkl\", \"OC_FD_e2_l532_RND.pkl\"]):\n",
    "    fakedect = torch.load(\"../../_WEIGHTS/oc_fakedect/\"+weights_path)\n",
    "                  # experiment_name,                                       model_name,          testset_name,                 fname\n",
    "    EXPERIMENTS = [\n",
    "\n",
    "                (f\"OC-FakeDect1 (Trained on {dataset_name} Dataset)\\\n",
    "               \\nTested on DFDB Dataset\",  f\"OC-FakeDect1_{dataset_name}\", \"DariusAf_Deepfake_Database\", f\"OC-FakeDect1_{dataset_name}_onDFDB\"),\n",
    "\n",
    "                # OC-FakeDect1 RND on Celebs indep eval\n",
    "               (f\"OC-FakeDect1 (Trained on {dataset_name} Dataset)\\\n",
    "               \\nTested on AVG CDFv2 Dataset\",  f\"OC-FakeDect1_{dataset_name}\", \"Celeb-avg-30\", f\"OC-FakeDect1_{dataset_name}_onAVG\"),\n",
    "\n",
    "               (f\"OC-FakeDect1 (Trained on {dataset_name} Dataset)\\\n",
    "               \\nTested on RND CDFv2 Dataset\",  f\"OC-FakeDect1_{dataset_name}\", \"Celeb-rnd-30\", f\"OC-FakeDect1_{dataset_name}_onRND\"),\n",
    "\n",
    "                # OC-FakeDect1 RND on Celebs rae\n",
    "                (f\"OC-FakeDect1 (Trained on {dataset_name} Dataset)\\\n",
    "               \\nTested on AVG CDFv2 Dataset\\\n",
    "               \\nRunning Average Evaluation\",  f\"OC-FakeDect1_{dataset_name}\", \"Celeb-avg-30\", f\"OC-FakeDect1_{dataset_name}_raeonAVG\"),\n",
    "\n",
    "               (f\"OC-FakeDect1 (Trained on {dataset_name} Dataset)\\\n",
    "               \\nTested on RND CDFv2 Dataset\\\n",
    "               \\nRunning Average Evaluation\",  f\"OC-FakeDect1_{dataset_name}\", \"Celeb-rnd-30\", f\"OC-FakeDect1_{dataset_name}_raeonRND\"),\n",
    "\n",
    "                # OC-FakeDect1 RND on FF indep eval\n",
    "                # DF\n",
    "                (f\"OC-FakeDect1 (Trained on {dataset_name} Dataset)\\\n",
    "               \\nTested on AVG Deepfakes Dataset\\\n",
    "               \\nRunning Average Evaluation\",  f\"OC-FakeDect1_{dataset_name}\", \"Deepfakes_avg\", f\"OC-FakeDect1_{dataset_name}_raeonDFavg\"),\n",
    "             \n",
    "                (f\"OC-FakeDect1 (Trained on {dataset_name} Dataset)\\\n",
    "               \\nTested on AVG Deepfakes Dataset\",  f\"OC-FakeDect1_{dataset_name}\", \"Deepfakes_avg\", f\"OC-FakeDect1_{dataset_name}_DFavg\"),\n",
    "             \n",
    "                (f\"OC-FakeDect1 (Trained on {dataset_name} Dataset)\\\n",
    "               \\nTested on RND Deepfakes Dataset\\\n",
    "               \\nRunning Average Evaluation\",  f\"OC-FakeDect1_{dataset_name}\", \"Deepfakes_rnd\", f\"OC-FakeDect1_{dataset_name}_raeonDFrnd\"),\n",
    "             \n",
    "                (f\"OC-FakeDect1 (Trained on {dataset_name} Dataset)\\\n",
    "               \\nTested on RND Deepfakes Dataset\",  f\"OC-FakeDect1_{dataset_name}\", \"Deepfakes_rnd\", f\"OC-FakeDect1_{dataset_name}_DFrnd\"),\n",
    "\n",
    "                # F2F\n",
    "                (f\"OC-FakeDect1 (Trained on {dataset_name} Dataset)\\\n",
    "                \\nTested on AVG Face2Face Dataset\\\n",
    "                \\nRunning Average Evaluation\",  f\"OC-FakeDect1_{dataset_name}\", \"Face2Face_avg\", f\"OC-FakeDect1_{dataset_name}_raeonF2Favg\"),\n",
    "             \n",
    "                (f\"OC-FakeDect1 (Trained on {dataset_name} Dataset)\\\n",
    "                \\nTested on AVG Face2Face Dataset\",  f\"OC-FakeDect1_{dataset_name}\", \"Face2Face_avg\", f\"OC-FakeDect1_{dataset_name}_F2Favg\"),\n",
    "              \n",
    "                (f\"OC-FakeDect1 (Trained on {dataset_name} Dataset)\\\n",
    "                \\nTested on RND Face2Face Dataset\\\n",
    "                \\nRunning Average Evaluation\",  f\"OC-FakeDect1_{dataset_name}\", \"Face2Face_rnd\", f\"OC-FakeDect1_{dataset_name}_raeonF2Frnd\"),\n",
    "               \n",
    "                (f\"OC-FakeDect1 (Trained on {dataset_name} Dataset)\\\n",
    "                \\nTested on RND Face2Face Dataset\",  f\"OC-FakeDect1_{dataset_name}\", \"Face2Face_rnd\", f\"OC-FakeDect1_{dataset_name}_F2Frnd\"),\n",
    "\n",
    "                # FaceShifter\n",
    "                (f\"OC-FakeDect1 (Trained on {dataset_name} Dataset)\\\n",
    "                \\nTested on AVG FaceShifter Dataset\\\n",
    "                \\nRunning Average Evaluation\",  f\"OC-FakeDect1_{dataset_name}\", \"FaceShifter_avg\", f\"OC-FakeDect1_{dataset_name}_raeonFSHFTavg\"),\n",
    "                \n",
    "                (f\"OC-FakeDect1 (Trained on {dataset_name} Dataset)\\\n",
    "                \\nTested on AVG FaceShifter Dataset\",  f\"OC-FakeDect1_{dataset_name}\", \"FaceShifter_avg\", f\"OC-FakeDect1_{dataset_name}_FSHFTavg\"),\n",
    "               \n",
    "                (f\"OC-FakeDect1 (Trained on {dataset_name} Dataset)\\\n",
    "                \\nTested on RND FaceShifter Dataset\\\n",
    "                \\nRunning Average Evaluation\",  f\"OC-FakeDect1_{dataset_name}\", \"FaceShifter_rnd\", f\"OC-FakeDect1_{dataset_name}_raeonFSHFTrnd\"),\n",
    "                \n",
    "                (f\"OC-FakeDect1 (Trained on {dataset_name} Dataset)\\\n",
    "                \\nTested on RND FaceShifter Dataset\",  f\"OC-FakeDect1_{dataset_name}\", \"FaceShifter_rnd\", f\"OC-FakeDect1_{dataset_name}_FSHFTrnd\"),\n",
    "\n",
    "                # FaceSwap\n",
    "                \n",
    "                (f\"OC-FakeDect1 (Trained on {dataset_name} Dataset)\\\n",
    "                \\nTested on AVG FaceSwap Dataset\\\n",
    "                \\nRunning Average Evaluation\",  f\"OC-FakeDect1_{dataset_name}\", \"FaceSwap_avg\", f\"OC-FakeDect1_{dataset_name}_raeonFSavg\"),\n",
    "                \n",
    "                (f\"OC-FakeDect1 (Trained on {dataset_name} Dataset)\\\n",
    "                \\nTested on AVG FaceSwap Dataset\",  f\"OC-FakeDect1_{dataset_name}\", \"FaceSwap_avg\", f\"OC-FakeDect1_{dataset_name}_FSavg\"),\n",
    "                \n",
    "                (f\"OC-FakeDect1 (Trained on {dataset_name} Dataset)\\\n",
    "                \\nTested on RND FaceSwap Dataset\\\n",
    "                \\nRunning Average Evaluation\",  f\"OC-FakeDect1_{dataset_name}\", \"FaceSwap_rnd\", f\"OC-FakeDect1_{dataset_name}_raeonFSrnd\"),\n",
    "                \n",
    "                (f\"OC-FakeDect1 (Trained on {dataset_name} Dataset)\\\n",
    "                \\nTested on RND FaceSwap Dataset\",  f\"OC-FakeDect1_{dataset_name}\", \"FaceSwap_rnd\", f\"OC-FakeDect1_{dataset_name}_FSrnd\"),\n",
    "\n",
    "                # NeuralTextures\n",
    "                (f\"OC-FakeDect1 (Trained on {dataset_name} Dataset)\\\n",
    "                \\nTested on AVG NeuralTextures Dataset\\\n",
    "                \\nRunning Average Evaluation\",  f\"OC-FakeDect1_{dataset_name}\", \"NeuralTextures_avg\", f\"OC-FakeDect1_{dataset_name}_raeonNTavg\"),\n",
    "                \n",
    "                (f\"OC-FakeDect1 (Trained on {dataset_name} Dataset)\\\n",
    "                \\nTested on AVG NeuralTextures Dataset\",  f\"OC-FakeDect1_{dataset_name}\", \"NeuralTextures_avg\", f\"OC-FakeDect1_{dataset_name}_NTavg\"),\n",
    "                \n",
    "                (f\"OC-FakeDect1 (Trained on {dataset_name} Dataset)\\\n",
    "                \\nTested on RND NeuralTextures Dataset\\\n",
    "                \\nRunning Average Evaluation\",  f\"OC-FakeDect1_{dataset_name}\", \"NeuralTextures_rnd\", f\"OC-FakeDect1_{dataset_name}_raeonNTrnd\"),\n",
    "                \n",
    "                (f\"OC-FakeDect1 (Trained on {dataset_name} Dataset)\\\n",
    "                \\nTested on RND NeuralTextures Dataset\",  f\"OC-FakeDect1_{dataset_name}\", \"NeuralTextures_rnd\", f\"OC-FakeDect1_{dataset_name}_NTrnd\"),\n",
    "               ]\n",
    "    for experiment_name, model_name, testset_name, fname in EXPERIMENTS[::-1]:\n",
    "        _, _, testset = get_binary_testset(testset_name)\n",
    "        print(f\"'{experiment_name}'\", model_name, testset_name, testset, fname, \"\\n\", sep=\"\\n\")\n",
    "\n",
    "        # recon scores\n",
    "        test_n = sum([len(files) for _, _, files in os.walk(testset)])  # // batch_size\n",
    "        score = {0: [], 1: []}\n",
    "        avg_eval = \"running\" in experiment_name.lower()\n",
    "        if avg_eval:\n",
    "            # running average eval, set of images from each video is single data point (not indep.)\n",
    "            path_to_testset_real_class = f\"{testset}/{[d for d in os.listdir(testset) if 'real' in d][0]}\"\n",
    "            path_to_testset_fake_class = f\"{testset}/{[d for d in os.listdir(testset) if 'real' not in d][0]}\"\n",
    "\n",
    "            for y_dir_pth, y_label in [(path_to_testset_fake_class, 1), (path_to_testset_real_class, 0)]:\n",
    "                img_dir_list = os.listdir(y_dir_pth)\n",
    "                Vpths = []\n",
    "                # loop over all single videos\n",
    "                for og_fname in sorted(list(set([re.split(\"_\\d+.png\", img_name)[0] for img_name in img_dir_list]))):\n",
    "\n",
    "                    all_imgs_for_vid = [i for i in img_dir_list if og_fname in i]\n",
    "                    path_all_imgs_for_vid = [f\"{y_dir_pth}/{i}\" for i in all_imgs_for_vid]\n",
    "                    rsmeS = []\n",
    "\n",
    "                    # loop over all frames from single video\n",
    "                    for path_to_test_img in path_all_imgs_for_vid:\n",
    "                        image = cv2.cvtColor(cv2.imread(test_img_path), cv2.COLOR_BGR2RGB)\n",
    "                        image = transform_test(image)\n",
    "                        image = image.float().to(device)\n",
    "\n",
    "                        fakedect.eval()  # test mode\n",
    "                        with torch.no_grad():\n",
    "                            x = image.view(-1, 3, 100, 100)\n",
    "                            x_prime, _, _ = fakedect(x)\n",
    "                            xi = x.flatten()\n",
    "                            xo = x_prime.flatten()\n",
    "                        rsmeS += [((((xi.cpu() - xo.cpu()) ** 2).sum() / test_n) ** 0.5).item()]\n",
    "                    score[y_label] += [np.average(rsmeS)]\n",
    "        else:\n",
    "            for class_dir in os.listdir(f\"{testset}/\"):\n",
    "                y = 0 if \"real\" in class_dir else 1\n",
    "                for test_img in tqdm(os.listdir(f\"{testset}/{class_dir}\")):\n",
    "                    test_img_path = f\"{testset}/{class_dir}/{test_img}\"\n",
    "                    if (\n",
    "                        \".png\" in test_img_path\n",
    "                        or \".jpg\" in test_img_path\n",
    "                        or \".jpeg\" in test_img_path\n",
    "                    ):\n",
    "                        image = cv2.cvtColor(cv2.imread(test_img_path), cv2.COLOR_BGR2RGB)\n",
    "                        image = transform_test(image)\n",
    "                        image = image.float().to(device)\n",
    "\n",
    "                        fakedect.eval()  # test mode\n",
    "                        with torch.no_grad():\n",
    "                            x = image.view(-1, 3, 100, 100)\n",
    "                            x_prime, _, _ = fakedect(x)\n",
    "                            xi = x.flatten()\n",
    "                            xo = x_prime.flatten()\n",
    "                        rsme = ((((xi.cpu() - xo.cpu()) ** 2).sum() / test_n) ** 0.5).item()\n",
    "                        score[y] += [rsme]\n",
    "\n",
    "        y_true = np.array([0] * len(score[0]) + [1] * len(score[1]))\n",
    "        y_pred = np.array(score[0] + score[1])\n",
    "\n",
    "        k = max(np.array(score[0]).std() * 0.075, np.array(score[1]).std() * 0.075)\n",
    "        min_r, max_r = min(min(score[0]), min(score[1])), max(max(score[0]), max(score[1]))\n",
    "        bins = [x for x in np.arange(min_r, max_r, k)]\n",
    "\n",
    "        figure(figsize=(10, 6))  # , dpi = 80)\n",
    "        c0, _, p = plt.hist(score[0], bins, alpha=0.7, label=\"Real\")\n",
    "        c1, _, p = plt.hist(score[1], bins, alpha=0.7, label=\"Fake\")\n",
    "    \n",
    "        # mode_0s = bins[np.where(c0 == c0.max())[0][0]] #np.array(score[0]).mean()\n",
    "        # mode_1s = bins[np.where(c1 == c1.max())[0][0]] #np.array(score[1]).mean()\n",
    "\n",
    "        # determine best threshold (highest f1)\n",
    "        threshold_canditates = []\n",
    "        for t in bins:\n",
    "            y_pred_rint = (y_pred <= t).astype(float)\n",
    "            threshold_canditates += [(roc_auc_score(y_true, y_pred_rint), t)]\n",
    "            # threshold_canditates += [(f1_score(y_true, y_pred_rint), t)]\n",
    "        threshold = max(threshold_canditates, key=lambda t: t[0])[1]\n",
    "\n",
    "        # if threshold is not in between means, this is messed up and we need to try and new strat\n",
    "        # if not (min(mode_0s, mode_1s) <= threshold <= max(mode_0s, mode_1s)):\n",
    "        #     try:\n",
    "        #         threshold = solve(np.mean(score[1]), np.mean(score[0]), np.var(score[1]), np.mean(score[0]))[0]\n",
    "        #     except LinAlgError:\n",
    "        #         threshold = (mode_0s + mode_1s)/2 # mid point between modes\n",
    "\n",
    "        plt.vlines(\n",
    "            threshold,\n",
    "            0,\n",
    "            int(max(max(c0), max(c1)) // 0.9),\n",
    "            colors=\"red\",\n",
    "            label=f\"Class Boundary @ {threshold:.3f}\",\n",
    "        )\n",
    "        plt.legend()\n",
    "        plt.xlabel(\"RMSE\")\n",
    "        plt.ylabel(\"Count\")\n",
    "        plt.title(f\"{experiment_name.replace('Trained on RND', 'Trained on CDFv2 (RF)').replace('Trained on AVG', 'Trained on CDFv2 (AF)')}\\nReconstruction Scores\")\n",
    "        plt.savefig(f\"Results/thrsh_{fname}.pdf\", bbox_inches=\"tight\")\n",
    "        plt.show()\n",
    "\n",
    "        auroc = roc_auc_score(y_true, y_pred)\n",
    "        fpr, tpr, _ = roc_curve(y_true, y_pred)\n",
    "\n",
    "        # If model is worse than random but so much worse that, it's predicting the opposite way\n",
    "        if auroc < 0.5:\n",
    "            auroc = 1 - auroc\n",
    "            fpr, tpr = tpr, fpr\n",
    "            y_pred = np.ones(y_pred.shape) - y_pred\n",
    "        # Get F1, Precision and Recall (WITH BEST THRESHOLD)\n",
    "        y_pred_rint = (y_pred <= threshold).astype(float)\n",
    "        f1 = f1_score(y_true, y_pred_rint)\n",
    "        prec = precision_score(y_true, y_pred_rint)\n",
    "        recall = recall_score(y_true, y_pred_rint)\n",
    "\n",
    "        # Plot AUC\n",
    "        plt.figure()\n",
    "        lw = 2\n",
    "        plt.plot(fpr, tpr, color=\"magenta\", lw=lw, label=\"ROC Curve (Area = %0.3f)\" % auroc)\n",
    "        plt.plot([0, 1], [0, 1], color=\"black\", lw=lw, linestyle=\"--\")\n",
    "        extra_xylim = 0.025\n",
    "        plt.xlim([0.0 - extra_xylim, 1.0 + extra_xylim])\n",
    "        plt.ylim([0.0 - extra_xylim, 1.0 + extra_xylim])\n",
    "        plt.xlabel(\"False Positive Rate\")\n",
    "        plt.ylabel(\"True Positive Rate\")\n",
    "        plt.title(f\"Test AUROC {experiment_name.replace('Trained on RND', 'Trained on CDFv2 (RF)').replace('Trained on AVG', 'Trained on CDFv2 (AF)')}\")\n",
    "        plt.legend(loc=\"lower right\")\n",
    "        plt.savefig(f\"./Results/{fname}_AUC.pdf\", bbox_inches=\"tight\")\n",
    "        plt.show()\n",
    "\n",
    "        with open(f\"./Results/{fname}.txt\", \"w\") as f:\n",
    "            f.write(f\"{experiment_name, model_name, dataset_name, fname}\\n\")\n",
    "            f.write(f\"auroc={auroc}\\n\")\n",
    "            f.write(f\"f1={f1}\\n\")\n",
    "            f.write(f\"prec={prec}\\n\")\n",
    "            f.write(f\"recall={recall}\\n\")\n",
    "            f.write(f\"\\nfpr={[f for f in fpr]}\\n\")\n",
    "            f.write(f\"\\ntpr={[t for t in tpr]}\\n\")\n",
    "            f.write(f\"\\ny_true={[t for t in y_true]}\\n\")\n",
    "            f.write(f\"\\ny_pred={[p[0] if 'arr' in str(type(p)) and len(p) else p for p in y_pred]}\\n\")\n",
    "            f.write(f\"\\score={score}\")\n",
    "    # break\n"
   ]
  },
  {
   "cell_type": "code",
   "execution_count": null,
   "id": "de523b8c",
   "metadata": {},
   "outputs": [],
   "source": [
    "\n",
    "# for dataset_name in (\"DFDB\", \"CDFv2 (AF)\", \"CDFv2 (DF)\")\n",
    "#     for experiment_name, model_name, testset_name, fname in EXPERIMENTS[:1]:\n",
    "#         print(experiment_name, model_name, testset_name, fname, \"\\n\", sep=\"\\n\")\n",
    "#         _, _, trainset = get_binary_testset(testset_name)\n",
    "\n",
    "#         # recon scores\n",
    "#         test_n = sum([len(files) for _, _, files in os.walk(trainset)]) #// batch_size\n",
    "#         score = {0:[],1:[]}\n",
    "#         avg_eval = \"running\" in experiment_name.lower()\n",
    "#         if avg_eval:\n",
    "#             # running average eval, set of images from each video is single data point (not indep.)\n",
    "#             path_to_testset_real_class = f\"{trainset}/{[d for d in os.listdir(trainset) if 'real' in d][0]}\"\n",
    "#             path_to_testset_fake_class = f\"{trainset}/{[d for d in os.listdir(trainset) if 'real' not in d][0]}\"\n",
    "\n",
    "#             for y_dir_pth, y_label in [(path_to_testset_fake_class, 1), (path_to_testset_real_class, 0)]:\n",
    "#                 img_dir_list = os.listdir(y_dir_pth)\n",
    "#                 Vpths = []\n",
    "#                 # loop over all single videos\n",
    "#                 for og_fname in set([re.split('_\\d+.png', img_name)[0] for img_name in img_dir_list]):\n",
    "\n",
    "#                     all_imgs_for_vid = [i for i in img_dir_list if og_fname in i]\n",
    "#                     path_all_imgs_for_vid = [f\"{y_dir_pth}/{i}\" for i in all_imgs_for_vid]\n",
    "#                     rsmeS = []\n",
    "\n",
    "#                     # loop over all frames from single video\n",
    "#                     for path_to_test_img in path_all_imgs_for_vid:\n",
    "#                         image = cv2.cvtColor(cv2.imread(test_img_path), cv2.COLOR_BGR2RGB)\n",
    "#                         image = transform_test(image)\n",
    "#                         image = image.float().to(device)\n",
    "\n",
    "#                         fakedect.eval() # test mode\n",
    "#                         with torch.no_grad():\n",
    "#                             x = image.view(-1,3,100,100)\n",
    "#                             x_prime, _, _ = fakedect(x)\n",
    "#                             # z_mean, z_logvar = fakedect.encode(x_prime)\n",
    "#                             xi = x.flatten()\n",
    "#                             xo = x_prime.flatten()\n",
    "#                         rsmeS += [((((xi.cpu() - xo.cpu())**2).sum()/test_n)**0.5).item()]\n",
    "#                     score[y_label] += [np.average(rsmeS)]\n",
    "\n",
    "#         else:\n",
    "#             for class_dir in os.listdir(f\"{testset}/\"):\n",
    "#                 y = 0 if \"real\" in class_dir else 1\n",
    "#                 for test_img in tqdm(os.listdir(f\"{testset}/{class_dir}\")):\n",
    "#                     test_img_path = f\"{testset}/{class_dir}/{test_img}\"\n",
    "#                     if \".png\" in test_img_path or \".jpg\" in test_img_path or \".jpeg\" in test_img_path:\n",
    "#                         image = cv2.cvtColor(cv2.imread(test_img_path), cv2.COLOR_BGR2RGB)\n",
    "#                         image = transform_test(image)\n",
    "#                         image = image.float().to(device)\n",
    "\n",
    "#                         fakedect.eval() # test mode\n",
    "#                         with torch.no_grad():\n",
    "#                             x = image.view(-1,3,100,100)\n",
    "#                             x_prime, _, _ = fakedect(x)\n",
    "#                             # z_mean, z_logvar = fakedect.encode(x_prime)\n",
    "#                             xi = x.flatten()\n",
    "#                             xo = x_prime.flatten()\n",
    "#                         rsme = ((((xi.cpu() - xo.cpu())**2).sum()/test_n)**0.5).item()\n",
    "#                         score[y] += [rsme]\n",
    "        \n",
    "#         k = max(np.array(score[0]).std() * 0.075, np.array(score[1]).std() * 0.075)\n",
    "#         min_r, max_r = min(min(score[0]), min(score[1])), max(max(score[0]), max(score[1]))\n",
    "#         bins = [x for x in np.arange(min_r, max_r, k)]\n",
    "\n",
    "#         try:\n",
    "#             threshold = solve(np.mean(score[1]), np.mean(score[0]), np.var(score[1]), np.mean(score[0]))[0]\n",
    "#         except LinAlgError:\n",
    "#             threshold = (min_r+max_r)/2\n",
    "\n",
    "#         figure(figsize = (10, 6))#, dpi = 80)\n",
    "#         c0,_,p = plt.hist(score[0], bins, alpha=0.7, label=\"Real\")\n",
    "#         c1,_,p = plt.hist(score[1], bins, alpha=0.7, label=\"Fake\")\n",
    "#         plt.vlines(threshold, 0, int(max(max(c0),max(c1))//0.9), colors=\"red\", label=f\"Class Boundary @ {threshold:.3f}\" )\n",
    "#         plt.legend()\n",
    "#         plt.xlabel(\"RMSE\")\n",
    "#         plt.ylabel(\"Count\")\n",
    "#         plt.title(f\"{experiment_name}\\nReconstruction Scores\")\n",
    "#         plt.savefig(f\"Results/thrsh_{fname}.pdf\", bbox_inches=\"tight\")\n",
    "#         plt.show()\n",
    "\n",
    "#         y_true = np.array([0]*len(score[0]) + [1]*len(score[1]))\n",
    "#         y_pred = np.array(score[0] + score[1])\n",
    "#         y_pred_rint = (y_pred <= threshold).astype(float)\n",
    "#         y_pred = y_pred_rint\n",
    "\n",
    "#         auroc = roc_auc_score(y_true, y_pred)\n",
    "#         fpr, tpr, _  = roc_curve(y_true, y_pred)\n",
    "\n",
    "#         # If model is worse than random but so much worse that, it's predicting the opposite way\n",
    "#         if auroc < .5:\n",
    "#             auroc = 1 - auroc\n",
    "#             fpr, tpr = tpr, fpr\n",
    "#             y_pred = np.ones(y_pred.shape) - y_pred\n",
    "\n",
    "#         # Get F1, Precision and Recall\n",
    "#         f1 = f1_score(y_true, y_pred_rint)\n",
    "#         prec = precision_score(y_true, y_pred_rint)\n",
    "#         recall = recall_score(y_true, y_pred_rint)\n",
    "\n",
    "#         # Plot AUC\n",
    "#         plt.figure()\n",
    "#         lw = 2\n",
    "#         plt.plot(fpr, tpr, color='magenta', lw=lw, label='ROC Curve (Area = %0.3f)' % auroc)\n",
    "#         plt.plot([0, 1], [0, 1], color='black', lw=lw, linestyle='--')\n",
    "#         extra_xylim = 0.025\n",
    "#         plt.xlim([0.0 - extra_xylim, 1.0 + extra_xylim])\n",
    "#         plt.ylim([0.0 - extra_xylim, 1.0 + extra_xylim])\n",
    "#         plt.xlabel('False Positive Rate')\n",
    "#         plt.ylabel('True Positive Rate')\n",
    "#         plt.title(f\"Test AUROC {experiment_name}\")\n",
    "#         plt.legend(loc=\"lower right\")\n",
    "#         # plt.savefig(f\"./Results/{fname}_AUC.pdf\")\n",
    "#         plt.show()\n",
    "\n",
    "#         # with open(f\"./Results/{fname}.txt\", \"w\") as f:\n",
    "#         #     f.write(f\"{experiment_name, model_name, dataset_name, fname}\\n\")\n",
    "#         #     f.write(f\"auroc={auroc}\\n\")\n",
    "#         #     f.write(f\"f1={f1}\\n\")\n",
    "#         #     f.write(f\"prec={prec}\\n\")\n",
    "#         #     f.write(f\"recall={recall}\\n\")\n",
    "#         #     f.write(f\"\\nfpr={[f for f in fpr]}\\n\")\n",
    "#         #     f.write(f\"\\ntpr={[t for t in tpr]}\\n\")\n",
    "#         #     f.write(f\"\\ny_true={[t for t in y_true]}\\n\")\n",
    "#         #     f.write(f\"\\ny_pred={[p[0] if 'arr' in str(type(p)) and len(p) else p for p in y_pred]}\\n\")\n",
    "#         #     f.write(f\"\\score={score}\")\n",
    "#         break"
   ]
  },
  {
   "cell_type": "code",
   "execution_count": null,
   "id": "482fcdc3",
   "metadata": {},
   "outputs": [],
   "source": []
  }
 ],
 "metadata": {
  "kernelspec": {
   "display_name": "Python 3",
   "language": "python",
   "name": "python3"
  },
  "language_info": {
   "codemirror_mode": {
    "name": "ipython",
    "version": 3
   },
   "file_extension": ".py",
   "mimetype": "text/x-python",
   "name": "python",
   "nbconvert_exporter": "python",
   "pygments_lexer": "ipython3",
   "version": "3.9.7"
  }
 },
 "nbformat": 4,
 "nbformat_minor": 5
}

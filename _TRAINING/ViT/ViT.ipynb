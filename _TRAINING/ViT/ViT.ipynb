{
 "cells": [
  {
   "cell_type": "code",
   "execution_count": 1,
   "metadata": {},
   "outputs": [
    {
     "name": "stdout",
     "output_type": "stream",
     "text": [
      "Collecting tensorflow-addons\n",
      "  Downloading tensorflow_addons-0.15.0-cp39-cp39-win_amd64.whl (753 kB)\n",
      "Collecting typeguard>=2.7\n",
      "  Downloading typeguard-2.13.3-py3-none-any.whl (17 kB)\n",
      "Installing collected packages: typeguard, tensorflow-addons\n",
      "Successfully installed tensorflow-addons-0.15.0 typeguard-2.13.3\n"
     ]
    }
   ],
   "source": [
    "!pip install -U tensorflow-addons"
   ]
  },
  {
   "cell_type": "code",
   "execution_count": 14,
   "metadata": {},
   "outputs": [],
   "source": [
    "import numpy as np\n",
    "import tensorflow as tf\n",
    "from tensorflow import keras\n",
    "from tensorflow.keras import layers\n",
    "import tensorflow_addons as tfa\n",
    "from tensorflow.keras.preprocessing.image import ImageDataGenerator"
   ]
  },
  {
   "cell_type": "code",
   "execution_count": 15,
   "metadata": {},
   "outputs": [],
   "source": [
    "def get_binary_testset(dataset_name):\n",
    "    \"\"\"\n",
    "    `DariusAf_Deepfake_Database` (train_test)\n",
    "    `Celeb-avg-30-test`\n",
    "    `Celeb-rnd-30-test`\n",
    "    `Celeb-diff-30-test`\n",
    "    \"\"\"\n",
    "    if dataset_name == \"DariusAf_Deepfake_Database\":\n",
    "        testset = \"../../_DATASETS/DariusAf_Deepfake_Database/train_test\"\n",
    "    elif dataset_name == \"Celeb-avg-30-test\":\n",
    "        testset = \"../../_DATASETS/Celeb-DF-v2/Celeb-avg-30-test\"\n",
    "    elif dataset_name == \"Celeb-rnd-30-test\":\n",
    "        testset = \"../../_DATASETS/Celeb-DF-v2/Celeb-rnd-30-test\"\n",
    "    elif dataset_name == \"Celeb-diff-30-test\":\n",
    "        testset = \"../../_DATASETS/Celeb-DF-v2/Celeb-diff-30-test\"\n",
    "    return testset"
   ]
  },
  {
   "cell_type": "code",
   "execution_count": 16,
   "metadata": {},
   "outputs": [
    {
     "ename": "NameError",
     "evalue": "name 'x_train' is not defined",
     "output_type": "error",
     "traceback": [
      "\u001b[1;31m---------------------------------------------------------------------------\u001b[0m",
      "\u001b[1;31mNameError\u001b[0m                                 Traceback (most recent call last)",
      "\u001b[1;32md:\\MInf\\_TRAINING\\ViT\\ViT.ipynb Cell 4'\u001b[0m in \u001b[0;36m<module>\u001b[1;34m\u001b[0m\n\u001b[0;32m      <a href='vscode-notebook-cell:/d%3A/MInf/_TRAINING/ViT/ViT.ipynb#ch0000002?line=1'>2</a>\u001b[0m input_shape \u001b[39m=\u001b[39m (\u001b[39m32\u001b[39m, \u001b[39m32\u001b[39m, \u001b[39m3\u001b[39m)\n\u001b[0;32m      <a href='vscode-notebook-cell:/d%3A/MInf/_TRAINING/ViT/ViT.ipynb#ch0000002?line=3'>4</a>\u001b[0m \u001b[39m# (x_train, y_train), (x_test, y_test) = keras.datasets.cifar100.load_data()\u001b[39;00m\n\u001b[1;32m----> <a href='vscode-notebook-cell:/d%3A/MInf/_TRAINING/ViT/ViT.ipynb#ch0000002?line=5'>6</a>\u001b[0m \u001b[39mprint\u001b[39m(\u001b[39mf\u001b[39m\u001b[39m\"\u001b[39m\u001b[39mx_train shape: \u001b[39m\u001b[39m{\u001b[39;00mx_train\u001b[39m.\u001b[39mshape\u001b[39m}\u001b[39;00m\u001b[39m - y_train shape: \u001b[39m\u001b[39m{\u001b[39;00my_train\u001b[39m.\u001b[39mshape\u001b[39m}\u001b[39;00m\u001b[39m\"\u001b[39m)\n\u001b[0;32m      <a href='vscode-notebook-cell:/d%3A/MInf/_TRAINING/ViT/ViT.ipynb#ch0000002?line=6'>7</a>\u001b[0m \u001b[39mprint\u001b[39m(\u001b[39mf\u001b[39m\u001b[39m\"\u001b[39m\u001b[39mx_test shape: \u001b[39m\u001b[39m{\u001b[39;00mx_test\u001b[39m.\u001b[39mshape\u001b[39m}\u001b[39;00m\u001b[39m - y_test shape: \u001b[39m\u001b[39m{\u001b[39;00my_test\u001b[39m.\u001b[39mshape\u001b[39m}\u001b[39;00m\u001b[39m\"\u001b[39m)\n",
      "\u001b[1;31mNameError\u001b[0m: name 'x_train' is not defined"
     ]
    }
   ],
   "source": [
    "num_classes = 2\n",
    "input_shape = (32, 32, 3)\n",
    "\n",
    "# (x_train, y_train), (x_test, y_test) = keras.datasets.cifar100.load_data()\n",
    "\n",
    "# print(f\"x_train shape: {x_train.shape} - y_train shape: {y_train.shape}\")\n",
    "# print(f\"x_test shape: {x_test.shape} - y_test shape: {y_test.shape}\")"
   ]
  },
  {
   "cell_type": "code",
   "execution_count": 21,
   "metadata": {},
   "outputs": [
    {
     "name": "stdout",
     "output_type": "stream",
     "text": [
      "Found 12353 images belonging to 2 classes.\n"
     ]
    }
   ],
   "source": [
    "DATASET = get_binary_testset(\"DariusAf_Deepfake_Database\")\n",
    "IMGWIDTH = 224\n",
    "SEED = 1337\n",
    "IMG_DATAGEN = ImageDataGenerator(rescale=1./255)\n",
    "GEN = IMG_DATAGEN.flow_from_directory(DATASET,\n",
    "                                      target_size=(IMGWIDTH, IMGWIDTH),\n",
    "                                      batch_size=128,\n",
    "                                      seed=SEED,\n",
    "                                      class_mode=\"binary\")"
   ]
  },
  {
   "cell_type": "code",
   "execution_count": 22,
   "metadata": {},
   "outputs": [],
   "source": [
    "learning_rate = 0.001\n",
    "weight_decay = 0.0001\n",
    "batch_size = 256\n",
    "num_epochs = 100\n",
    "image_size = 72  # We'll resize input images to this size\n",
    "patch_size = 6  # Size of the patches to be extract from the input images\n",
    "num_patches = (image_size // patch_size) ** 2\n",
    "projection_dim = 64\n",
    "num_heads = 4\n",
    "transformer_units = [\n",
    "    projection_dim * 2,\n",
    "    projection_dim,\n",
    "]  # Size of the transformer layers\n",
    "transformer_layers = 8\n",
    "mlp_head_units = [2048, 1024]  # Size of the dense layers of the final classifier"
   ]
  },
  {
   "cell_type": "code",
   "execution_count": null,
   "metadata": {},
   "outputs": [],
   "source": [
    "data_augmentation = keras.Sequential(\n",
    "    [\n",
    "        layers.Normalization(),\n",
    "        layers.Resizing(image_size, image_size),\n",
    "        layers.RandomFlip(\"horizontal\"),\n",
    "        layers.RandomRotation(factor=0.02),\n",
    "        layers.RandomZoom(\n",
    "            height_factor=0.2, width_factor=0.2\n",
    "        ),\n",
    "    ],\n",
    "    name=\"data_augmentation\",\n",
    ")\n",
    "# Compute the mean and the variance of the training data for normalization.\n",
    "data_augmentation.layers[0].adapt(x_train)"
   ]
  },
  {
   "cell_type": "code",
   "execution_count": null,
   "metadata": {},
   "outputs": [],
   "source": [
    "def mlp(x, hidden_units, dropout_rate):\n",
    "    for units in hidden_units:\n",
    "        x = layers.Dense(units, activation=tf.nn.gelu)(x)\n",
    "        x = layers.Dropout(dropout_rate)(x)\n",
    "    return x"
   ]
  }
 ],
 "metadata": {
  "interpreter": {
   "hash": "b6ab49cfb582f84f545cba3582faacfb251ac6e80d3620b9815119ee38c0dbaf"
  },
  "kernelspec": {
   "display_name": "Python 3.9.7 ('tf')",
   "language": "python",
   "name": "python3"
  },
  "language_info": {
   "codemirror_mode": {
    "name": "ipython",
    "version": 3
   },
   "file_extension": ".py",
   "mimetype": "text/x-python",
   "name": "python",
   "nbconvert_exporter": "python",
   "pygments_lexer": "ipython3",
   "version": "3.9.7"
  },
  "orig_nbformat": 4
 },
 "nbformat": 4,
 "nbformat_minor": 2
}
